{
 "cells": [
  {
   "cell_type": "markdown",
   "metadata": {},
   "source": [
    "# Predicting ticketprice of flights "
   ]
  },
  {
   "cell_type": "code",
   "execution_count": 1666,
   "metadata": {},
   "outputs": [],
   "source": [
    "# Importing libraries\n",
    "import pandas as pd\n",
    "import numpy as np\n",
    "import matplotlib.pyplot as plt\n",
    "import seaborn as sns"
   ]
  },
  {
   "cell_type": "code",
   "execution_count": 1667,
   "metadata": {},
   "outputs": [],
   "source": [
    "#Reading the data\n",
    "flight_train = pd.read_excel('Train.xlsx')\n",
    "flight_test= pd.read_excel('Test.xlsx')\n",
    "y_test_actual= pd.read_csv('y_test.csv')"
   ]
  },
  {
   "cell_type": "code",
   "execution_count": 1668,
   "metadata": {},
   "outputs": [],
   "source": [
    "pd.set_option('display.max_columns',None)\n",
    "pd.set_option('display.max_rows',None)"
   ]
  },
  {
   "cell_type": "code",
   "execution_count": 1669,
   "metadata": {},
   "outputs": [
    {
     "data": {
      "text/html": [
       "<div>\n",
       "<style scoped>\n",
       "    .dataframe tbody tr th:only-of-type {\n",
       "        vertical-align: middle;\n",
       "    }\n",
       "\n",
       "    .dataframe tbody tr th {\n",
       "        vertical-align: top;\n",
       "    }\n",
       "\n",
       "    .dataframe thead th {\n",
       "        text-align: right;\n",
       "    }\n",
       "</style>\n",
       "<table border=\"1\" class=\"dataframe\">\n",
       "  <thead>\n",
       "    <tr style=\"text-align: right;\">\n",
       "      <th></th>\n",
       "      <th>TripID</th>\n",
       "      <th>ticketprice</th>\n",
       "    </tr>\n",
       "  </thead>\n",
       "  <tbody>\n",
       "    <tr>\n",
       "      <th>0</th>\n",
       "      <td>Trip12332</td>\n",
       "      <td>5742</td>\n",
       "    </tr>\n",
       "    <tr>\n",
       "      <th>1</th>\n",
       "      <td>Trip22633</td>\n",
       "      <td>15286</td>\n",
       "    </tr>\n",
       "    <tr>\n",
       "      <th>2</th>\n",
       "      <td>Trip33581</td>\n",
       "      <td>9582</td>\n",
       "    </tr>\n",
       "    <tr>\n",
       "      <th>3</th>\n",
       "      <td>Trip36239</td>\n",
       "      <td>13720</td>\n",
       "    </tr>\n",
       "    <tr>\n",
       "      <th>4</th>\n",
       "      <td>Trip21625</td>\n",
       "      <td>6338</td>\n",
       "    </tr>\n",
       "  </tbody>\n",
       "</table>\n",
       "</div>"
      ],
      "text/plain": [
       "      TripID  ticketprice\n",
       "0  Trip12332         5742\n",
       "1  Trip22633        15286\n",
       "2  Trip33581         9582\n",
       "3  Trip36239        13720\n",
       "4  Trip21625         6338"
      ]
     },
     "execution_count": 1669,
     "metadata": {},
     "output_type": "execute_result"
    }
   ],
   "source": [
    "y_test_actual.head()"
   ]
  },
  {
   "cell_type": "code",
   "execution_count": 1670,
   "metadata": {},
   "outputs": [
    {
     "data": {
      "text/html": [
       "<div>\n",
       "<style scoped>\n",
       "    .dataframe tbody tr th:only-of-type {\n",
       "        vertical-align: middle;\n",
       "    }\n",
       "\n",
       "    .dataframe tbody tr th {\n",
       "        vertical-align: top;\n",
       "    }\n",
       "\n",
       "    .dataframe thead th {\n",
       "        text-align: right;\n",
       "    }\n",
       "</style>\n",
       "<table border=\"1\" class=\"dataframe\">\n",
       "  <thead>\n",
       "    <tr style=\"text-align: right;\">\n",
       "      <th></th>\n",
       "      <th>TripID</th>\n",
       "      <th>departure</th>\n",
       "      <th>arrival</th>\n",
       "      <th>airline</th>\n",
       "      <th>planecode</th>\n",
       "      <th>plane</th>\n",
       "      <th>Bookingdate</th>\n",
       "      <th>currencyCode</th>\n",
       "      <th>departure_airport</th>\n",
       "      <th>departure_date_time</th>\n",
       "      <th>arrival_airport</th>\n",
       "      <th>arrival_date_time</th>\n",
       "      <th>Route</th>\n",
       "      <th>ticketprice</th>\n",
       "    </tr>\n",
       "  </thead>\n",
       "  <tbody>\n",
       "    <tr>\n",
       "      <th>0</th>\n",
       "      <td>Trip8907</td>\n",
       "      <td>Bengaluru</td>\n",
       "      <td>Delhi</td>\n",
       "      <td>Vistara</td>\n",
       "      <td>320</td>\n",
       "      <td>Airbus A320</td>\n",
       "      <td>23May2017-12:40:46</td>\n",
       "      <td>INR</td>\n",
       "      <td>Bengaluru, India (BLR-Kempegowda Intl.)</td>\n",
       "      <td>24/05/2017 06:40</td>\n",
       "      <td>Delhi (DEL-Indira Gandhi Intl.)</td>\n",
       "      <td>24/05/2017 14:10</td>\n",
       "      <td>BLR-BOM-DEL</td>\n",
       "      <td>10884</td>\n",
       "    </tr>\n",
       "    <tr>\n",
       "      <th>1</th>\n",
       "      <td>Trip19142</td>\n",
       "      <td>Hyderabad</td>\n",
       "      <td>Pune</td>\n",
       "      <td>Vistara</td>\n",
       "      <td>320</td>\n",
       "      <td>Airbus A320</td>\n",
       "      <td>28May2017-15:22:34</td>\n",
       "      <td>INR</td>\n",
       "      <td>Hyderabad (HYD-Rajiv Gandhi Intl.)</td>\n",
       "      <td>01/06/2017 10:10</td>\n",
       "      <td>Pune (PNQ-Lohegaon)</td>\n",
       "      <td>02/06/2017 05:20</td>\n",
       "      <td>HYD-DEL-PNQ</td>\n",
       "      <td>21189</td>\n",
       "    </tr>\n",
       "    <tr>\n",
       "      <th>2</th>\n",
       "      <td>Trip4364</td>\n",
       "      <td>Hyderabad</td>\n",
       "      <td>Chennai</td>\n",
       "      <td>Indigo</td>\n",
       "      <td>320</td>\n",
       "      <td>Airbus A320</td>\n",
       "      <td>21May2017-18:05:45</td>\n",
       "      <td>INR</td>\n",
       "      <td>Hyderabad (HYD-Rajiv Gandhi Intl.)</td>\n",
       "      <td>26/05/2017 16:35</td>\n",
       "      <td>Chennai (MAA-Chennai Intl.)</td>\n",
       "      <td>26/05/2017 17:50</td>\n",
       "      <td>HYD-MAA</td>\n",
       "      <td>5001</td>\n",
       "    </tr>\n",
       "    <tr>\n",
       "      <th>3</th>\n",
       "      <td>Trip43336</td>\n",
       "      <td>Hyderabad</td>\n",
       "      <td>Goa</td>\n",
       "      <td>Indigo</td>\n",
       "      <td>320</td>\n",
       "      <td>Airbus A320</td>\n",
       "      <td>02June2017-14:57:27</td>\n",
       "      <td>INR</td>\n",
       "      <td>Hyderabad (HYD-Rajiv Gandhi Intl.)</td>\n",
       "      <td>15/06/2017 12:50</td>\n",
       "      <td>Goa (GOI-Dabolim)</td>\n",
       "      <td>15/06/2017 14:15</td>\n",
       "      <td>HYD-GOI</td>\n",
       "      <td>2622</td>\n",
       "    </tr>\n",
       "    <tr>\n",
       "      <th>4</th>\n",
       "      <td>Trip2628</td>\n",
       "      <td>Bengaluru</td>\n",
       "      <td>Hyderabad</td>\n",
       "      <td>Indigo</td>\n",
       "      <td>320</td>\n",
       "      <td>Airbus A320</td>\n",
       "      <td>21May2017-17:14:38</td>\n",
       "      <td>INR</td>\n",
       "      <td>Bengaluru, India (BLR-Kempegowda Intl.)</td>\n",
       "      <td>25/05/2017 08:20</td>\n",
       "      <td>Hyderabad (HYD-Rajiv Gandhi Intl.)</td>\n",
       "      <td>25/05/2017 09:30</td>\n",
       "      <td>BLR-HYD</td>\n",
       "      <td>16704</td>\n",
       "    </tr>\n",
       "  </tbody>\n",
       "</table>\n",
       "</div>"
      ],
      "text/plain": [
       "      TripID  departure    arrival  airline planecode        plane  \\\n",
       "0   Trip8907  Bengaluru      Delhi  Vistara       320  Airbus A320   \n",
       "1  Trip19142  Hyderabad       Pune  Vistara       320  Airbus A320   \n",
       "2   Trip4364  Hyderabad    Chennai   Indigo       320  Airbus A320   \n",
       "3  Trip43336  Hyderabad        Goa   Indigo       320  Airbus A320   \n",
       "4   Trip2628  Bengaluru  Hyderabad   Indigo       320  Airbus A320   \n",
       "\n",
       "           Bookingdate currencyCode                         departure_airport  \\\n",
       "0   23May2017-12:40:46          INR  Bengaluru, India (BLR-Kempegowda Intl.)    \n",
       "1   28May2017-15:22:34          INR        Hyderabad (HYD-Rajiv Gandhi Intl.)   \n",
       "2   21May2017-18:05:45          INR        Hyderabad (HYD-Rajiv Gandhi Intl.)   \n",
       "3  02June2017-14:57:27          INR        Hyderabad (HYD-Rajiv Gandhi Intl.)   \n",
       "4   21May2017-17:14:38          INR  Bengaluru, India (BLR-Kempegowda Intl.)    \n",
       "\n",
       "  departure_date_time                     arrival_airport arrival_date_time  \\\n",
       "0    24/05/2017 06:40     Delhi (DEL-Indira Gandhi Intl.)  24/05/2017 14:10   \n",
       "1    01/06/2017 10:10                 Pune (PNQ-Lohegaon)  02/06/2017 05:20   \n",
       "2    26/05/2017 16:35         Chennai (MAA-Chennai Intl.)  26/05/2017 17:50   \n",
       "3    15/06/2017 12:50                   Goa (GOI-Dabolim)  15/06/2017 14:15   \n",
       "4    25/05/2017 08:20  Hyderabad (HYD-Rajiv Gandhi Intl.)  25/05/2017 09:30   \n",
       "\n",
       "         Route  ticketprice  \n",
       "0  BLR-BOM-DEL        10884  \n",
       "1  HYD-DEL-PNQ        21189  \n",
       "2      HYD-MAA         5001  \n",
       "3      HYD-GOI         2622  \n",
       "4      BLR-HYD        16704  "
      ]
     },
     "execution_count": 1670,
     "metadata": {},
     "output_type": "execute_result"
    }
   ],
   "source": [
    "flight_train.head()"
   ]
  },
  {
   "cell_type": "code",
   "execution_count": 1671,
   "metadata": {},
   "outputs": [
    {
     "data": {
      "text/html": [
       "<div>\n",
       "<style scoped>\n",
       "    .dataframe tbody tr th:only-of-type {\n",
       "        vertical-align: middle;\n",
       "    }\n",
       "\n",
       "    .dataframe tbody tr th {\n",
       "        vertical-align: top;\n",
       "    }\n",
       "\n",
       "    .dataframe thead th {\n",
       "        text-align: right;\n",
       "    }\n",
       "</style>\n",
       "<table border=\"1\" class=\"dataframe\">\n",
       "  <thead>\n",
       "    <tr style=\"text-align: right;\">\n",
       "      <th></th>\n",
       "      <th>TripID</th>\n",
       "      <th>departure</th>\n",
       "      <th>arrival</th>\n",
       "      <th>airline</th>\n",
       "      <th>planecode</th>\n",
       "      <th>plane</th>\n",
       "      <th>Bookingdate</th>\n",
       "      <th>currencyCode</th>\n",
       "      <th>departure_airport</th>\n",
       "      <th>departure_date_time</th>\n",
       "      <th>arrival_airport</th>\n",
       "      <th>arrival_date_time</th>\n",
       "      <th>Route</th>\n",
       "    </tr>\n",
       "  </thead>\n",
       "  <tbody>\n",
       "    <tr>\n",
       "      <th>0</th>\n",
       "      <td>Trip12332</td>\n",
       "      <td>Mumbai</td>\n",
       "      <td>Tirupati</td>\n",
       "      <td>Indigo</td>\n",
       "      <td>320</td>\n",
       "      <td>Airbus A320</td>\n",
       "      <td>26May2017-10:20:18</td>\n",
       "      <td>INR</td>\n",
       "      <td>Mumbai (BOM-Chhatrapati Shivaji Intl.)</td>\n",
       "      <td>12/06/2017 02:35</td>\n",
       "      <td>Tirupati (TIR)</td>\n",
       "      <td>12/06/2017 07:50</td>\n",
       "      <td>BOM-HYD-TIR</td>\n",
       "    </tr>\n",
       "    <tr>\n",
       "      <th>1</th>\n",
       "      <td>Trip22633</td>\n",
       "      <td>Hyderabad</td>\n",
       "      <td>Pune</td>\n",
       "      <td>Vistara</td>\n",
       "      <td>320</td>\n",
       "      <td>Airbus A320</td>\n",
       "      <td>29May2017-16:19:03</td>\n",
       "      <td>INR</td>\n",
       "      <td>Hyderabad (HYD-Rajiv Gandhi Intl.)</td>\n",
       "      <td>03/06/2017 06:05</td>\n",
       "      <td>Pune (PNQ-Lohegaon)</td>\n",
       "      <td>03/06/2017 19:45</td>\n",
       "      <td>HYD-DEL-PNQ</td>\n",
       "    </tr>\n",
       "    <tr>\n",
       "      <th>2</th>\n",
       "      <td>Trip33581</td>\n",
       "      <td>Mumbai</td>\n",
       "      <td>Bhubaneshwar</td>\n",
       "      <td>Indigo</td>\n",
       "      <td>320</td>\n",
       "      <td>Airbus A320</td>\n",
       "      <td>01June2017-18:52:18</td>\n",
       "      <td>INR</td>\n",
       "      <td>Mumbai (BOM-Chhatrapati Shivaji Intl.)</td>\n",
       "      <td>24/10/2017 17:45</td>\n",
       "      <td>Bhubaneshwar (BBI-Biju Patnaik)</td>\n",
       "      <td>25/10/2017 01:00</td>\n",
       "      <td>BOM-DEL-BBI</td>\n",
       "    </tr>\n",
       "    <tr>\n",
       "      <th>3</th>\n",
       "      <td>Trip36239</td>\n",
       "      <td>Hyderabad</td>\n",
       "      <td>Varanasi</td>\n",
       "      <td>Vistara</td>\n",
       "      <td>320</td>\n",
       "      <td>Airbus A320</td>\n",
       "      <td>01June2017-15:22:54</td>\n",
       "      <td>INR</td>\n",
       "      <td>Hyderabad (HYD-Rajiv Gandhi Intl.)</td>\n",
       "      <td>07/06/2017 16:05</td>\n",
       "      <td>Varanasi (VNS-Babatpur)</td>\n",
       "      <td>08/06/2017 14:45</td>\n",
       "      <td>HYD-BOM-DEL-VNS</td>\n",
       "    </tr>\n",
       "    <tr>\n",
       "      <th>4</th>\n",
       "      <td>Trip21625</td>\n",
       "      <td>Hyderabad</td>\n",
       "      <td>Varanasi</td>\n",
       "      <td>Indigo</td>\n",
       "      <td>320</td>\n",
       "      <td>Airbus A320</td>\n",
       "      <td>28May2017-11:48:37</td>\n",
       "      <td>INR</td>\n",
       "      <td>Hyderabad (HYD-Rajiv Gandhi Intl.)</td>\n",
       "      <td>05/07/2017 12:10</td>\n",
       "      <td>Varanasi (VNS-Babatpur)</td>\n",
       "      <td>05/07/2017 19:00</td>\n",
       "      <td>HYD-BOM-VNS</td>\n",
       "    </tr>\n",
       "  </tbody>\n",
       "</table>\n",
       "</div>"
      ],
      "text/plain": [
       "      TripID  departure       arrival  airline planecode        plane  \\\n",
       "0  Trip12332     Mumbai      Tirupati   Indigo       320  Airbus A320   \n",
       "1  Trip22633  Hyderabad          Pune  Vistara       320  Airbus A320   \n",
       "2  Trip33581     Mumbai  Bhubaneshwar   Indigo       320  Airbus A320   \n",
       "3  Trip36239  Hyderabad      Varanasi  Vistara       320  Airbus A320   \n",
       "4  Trip21625  Hyderabad      Varanasi   Indigo       320  Airbus A320   \n",
       "\n",
       "           Bookingdate currencyCode                       departure_airport  \\\n",
       "0   26May2017-10:20:18          INR  Mumbai (BOM-Chhatrapati Shivaji Intl.)   \n",
       "1   29May2017-16:19:03          INR      Hyderabad (HYD-Rajiv Gandhi Intl.)   \n",
       "2  01June2017-18:52:18          INR  Mumbai (BOM-Chhatrapati Shivaji Intl.)   \n",
       "3  01June2017-15:22:54          INR      Hyderabad (HYD-Rajiv Gandhi Intl.)   \n",
       "4   28May2017-11:48:37          INR      Hyderabad (HYD-Rajiv Gandhi Intl.)   \n",
       "\n",
       "  departure_date_time                  arrival_airport arrival_date_time  \\\n",
       "0    12/06/2017 02:35                   Tirupati (TIR)  12/06/2017 07:50   \n",
       "1    03/06/2017 06:05              Pune (PNQ-Lohegaon)  03/06/2017 19:45   \n",
       "2    24/10/2017 17:45  Bhubaneshwar (BBI-Biju Patnaik)  25/10/2017 01:00   \n",
       "3    07/06/2017 16:05          Varanasi (VNS-Babatpur)  08/06/2017 14:45   \n",
       "4    05/07/2017 12:10          Varanasi (VNS-Babatpur)  05/07/2017 19:00   \n",
       "\n",
       "             Route  \n",
       "0      BOM-HYD-TIR  \n",
       "1      HYD-DEL-PNQ  \n",
       "2      BOM-DEL-BBI  \n",
       "3  HYD-BOM-DEL-VNS  \n",
       "4      HYD-BOM-VNS  "
      ]
     },
     "execution_count": 1671,
     "metadata": {},
     "output_type": "execute_result"
    }
   ],
   "source": [
    "flight_test.head()"
   ]
  },
  {
   "cell_type": "code",
   "execution_count": 1672,
   "metadata": {},
   "outputs": [
    {
     "data": {
      "text/plain": [
       "(24000, 14)"
      ]
     },
     "execution_count": 1672,
     "metadata": {},
     "output_type": "execute_result"
    }
   ],
   "source": [
    "flight_train.shape"
   ]
  },
  {
   "cell_type": "code",
   "execution_count": 1673,
   "metadata": {},
   "outputs": [
    {
     "data": {
      "text/plain": [
       "(6000, 13)"
      ]
     },
     "execution_count": 1673,
     "metadata": {},
     "output_type": "execute_result"
    }
   ],
   "source": [
    "flight_test.shape"
   ]
  },
  {
   "cell_type": "code",
   "execution_count": 1674,
   "metadata": {},
   "outputs": [
    {
     "name": "stdout",
     "output_type": "stream",
     "text": [
      "<class 'pandas.core.frame.DataFrame'>\n",
      "RangeIndex: 24000 entries, 0 to 23999\n",
      "Data columns (total 14 columns):\n",
      " #   Column               Non-Null Count  Dtype \n",
      "---  ------               --------------  ----- \n",
      " 0   TripID               24000 non-null  object\n",
      " 1   departure            24000 non-null  object\n",
      " 2   arrival              24000 non-null  object\n",
      " 3   airline              24000 non-null  object\n",
      " 4   planecode            24000 non-null  object\n",
      " 5   plane                24000 non-null  object\n",
      " 6   Bookingdate          24000 non-null  object\n",
      " 7   currencyCode         24000 non-null  object\n",
      " 8   departure_airport    24000 non-null  object\n",
      " 9   departure_date_time  24000 non-null  object\n",
      " 10  arrival_airport      24000 non-null  object\n",
      " 11  arrival_date_time    24000 non-null  object\n",
      " 12  Route                24000 non-null  object\n",
      " 13  ticketprice          24000 non-null  int64 \n",
      "dtypes: int64(1), object(13)\n",
      "memory usage: 2.6+ MB\n"
     ]
    }
   ],
   "source": [
    "flight_train.info()"
   ]
  },
  {
   "cell_type": "code",
   "execution_count": 1675,
   "metadata": {},
   "outputs": [
    {
     "name": "stdout",
     "output_type": "stream",
     "text": [
      "<class 'pandas.core.frame.DataFrame'>\n",
      "RangeIndex: 6000 entries, 0 to 5999\n",
      "Data columns (total 13 columns):\n",
      " #   Column               Non-Null Count  Dtype \n",
      "---  ------               --------------  ----- \n",
      " 0   TripID               6000 non-null   object\n",
      " 1   departure            6000 non-null   object\n",
      " 2   arrival              6000 non-null   object\n",
      " 3   airline              6000 non-null   object\n",
      " 4   planecode            6000 non-null   object\n",
      " 5   plane                6000 non-null   object\n",
      " 6   Bookingdate          6000 non-null   object\n",
      " 7   currencyCode         6000 non-null   object\n",
      " 8   departure_airport    6000 non-null   object\n",
      " 9   departure_date_time  6000 non-null   object\n",
      " 10  arrival_airport      6000 non-null   object\n",
      " 11  arrival_date_time    6000 non-null   object\n",
      " 12  Route                6000 non-null   object\n",
      "dtypes: object(13)\n",
      "memory usage: 609.5+ KB\n"
     ]
    }
   ],
   "source": [
    "flight_test.info()"
   ]
  },
  {
   "cell_type": "code",
   "execution_count": 1676,
   "metadata": {},
   "outputs": [
    {
     "data": {
      "text/plain": [
       "TripID                 0\n",
       "departure              0\n",
       "arrival                0\n",
       "airline                0\n",
       "planecode              0\n",
       "plane                  0\n",
       "Bookingdate            0\n",
       "currencyCode           0\n",
       "departure_airport      0\n",
       "departure_date_time    0\n",
       "arrival_airport        0\n",
       "arrival_date_time      0\n",
       "Route                  0\n",
       "ticketprice            0\n",
       "dtype: int64"
      ]
     },
     "execution_count": 1676,
     "metadata": {},
     "output_type": "execute_result"
    }
   ],
   "source": [
    "#Checking for null values\n",
    "flight_train.isnull().sum()"
   ]
  },
  {
   "cell_type": "code",
   "execution_count": 1677,
   "metadata": {},
   "outputs": [
    {
     "data": {
      "text/plain": [
       "TripID                 0\n",
       "departure              0\n",
       "arrival                0\n",
       "airline                0\n",
       "planecode              0\n",
       "plane                  0\n",
       "Bookingdate            0\n",
       "currencyCode           0\n",
       "departure_airport      0\n",
       "departure_date_time    0\n",
       "arrival_airport        0\n",
       "arrival_date_time      0\n",
       "Route                  0\n",
       "dtype: int64"
      ]
     },
     "execution_count": 1677,
     "metadata": {},
     "output_type": "execute_result"
    }
   ],
   "source": [
    "flight_test.isnull().sum()"
   ]
  },
  {
   "cell_type": "code",
   "execution_count": 1678,
   "metadata": {},
   "outputs": [],
   "source": [
    "trip_id_train = flight_train['TripID']\n",
    "trip_id_test = flight_test['TripID']"
   ]
  },
  {
   "cell_type": "markdown",
   "metadata": {},
   "source": [
    "## Data Visualizations"
   ]
  },
  {
   "cell_type": "markdown",
   "metadata": {},
   "source": [
    "### Pre-processing visualizations"
   ]
  },
  {
   "cell_type": "code",
   "execution_count": 1679,
   "metadata": {},
   "outputs": [
    {
     "data": {
      "text/plain": [
       "<Figure size 400x400 with 0 Axes>"
      ]
     },
     "metadata": {},
     "output_type": "display_data"
    },
    {
     "data": {
      "image/png": "[encoded data removed]",
      "text/plain": [
       "<Figure size 400x400 with 1 Axes>"
      ]
     },
     "metadata": {},
     "output_type": "display_data"
    }
   ],
   "source": [
    "# Boxplot for ticketprice\n",
    "plt.figure(figsize=(4,4))\n",
    "sns.boxplot(y='ticketprice',data=flight_train, color='lightgreen')\n",
    "plt.title('Boxplot for Ticket Price',fontsize=15, weight=\"bold\")\n",
    "plt.xticks(fontsize=10)\n",
    "plt.yticks(fontsize=10)\n",
    "plt.show(True)"
   ]
  },
  {
   "cell_type": "code",
   "execution_count": 1680,
   "metadata": {},
   "outputs": [
    {
     "data": {
      "image/png": "[encoded data removed]",
      "text/plain": [
       "<Figure size 1800x600 with 1 Axes>"
      ]
     },
     "metadata": {},
     "output_type": "display_data"
    }
   ],
   "source": [
    "# Distribution of arrival destinations with respect to ticketprice\n",
    "sns.catplot(y='ticketprice' , x='arrival' ,\n",
    "            data = flight_train.sort_values('ticketprice',ascending=False) ,\n",
    "            kind='boxen' , height=6 , aspect=3)\n",
    "plt.title('Distribution of arrival destinations wrt ticketprice',fontsize=15, weight=\"bold\")\n",
    "plt.show(True)"
   ]
  },
  {
   "cell_type": "code",
   "execution_count": 1681,
   "metadata": {},
   "outputs": [
    {
     "data": {
      "image/png": "[encoded data removed]",
      "text/plain": [
       "<Figure size 1800x600 with 1 Axes>"
      ]
     },
     "metadata": {},
     "output_type": "display_data"
    }
   ],
   "source": [
    "# Distribution of departure destinations with respect to ticketprice\n",
    "sns.catplot(y='ticketprice' , x='departure' ,\n",
    "            data = flight_train.sort_values('ticketprice',ascending=False) ,\n",
    "            kind='boxen' , height=6 , aspect=3)\n",
    "plt.title('Distribution of departure destinations wrt ticketprice',fontsize=15, weight=\"bold\")\n",
    "plt.show(True)\n",
    "\n",
    "#### Flights leaving from Hyderabad are costlier"
   ]
  },
  {
   "cell_type": "code",
   "execution_count": 1682,
   "metadata": {},
   "outputs": [
    {
     "data": {
      "image/png": "[encoded data removed]",
      "text/plain": [
       "<Figure size 1800x600 with 1 Axes>"
      ]
     },
     "metadata": {},
     "output_type": "display_data"
    }
   ],
   "source": [
    "# Distribution of pricing of various airlines\n",
    "sns.catplot(y='ticketprice' , x='airline' ,\n",
    "            data = flight_train.sort_values('ticketprice',ascending=False) , \n",
    "            kind='boxen' , height=6 , aspect=3)\n",
    "plt.title('Distribution of pricing of various airlines',fontsize=15, weight=\"bold\")\n",
    "plt.show(True)\n",
    "\n",
    "### Ticketprice of Vistara are higher than Spicejet and Indigo."
   ]
  },
  {
   "cell_type": "code",
   "execution_count": 1683,
   "metadata": {},
   "outputs": [
    {
     "data": {
      "image/png": "[encoded data removed]",
      "text/plain": [
       "<Figure size 1800x600 with 1 Axes>"
      ]
     },
     "metadata": {},
     "output_type": "display_data"
    }
   ],
   "source": [
    "# Distribution of pricing of planes\n",
    "sns.catplot(y='ticketprice' , x='planecode' ,\n",
    "            data = flight_train.sort_values('ticketprice',ascending=False) , \n",
    "            kind='boxen' , height=6 , aspect=3)\n",
    "plt.title('Distribution of pricing of planes',fontsize=15, weight=\"bold\")\n",
    "plt.show(True)"
   ]
  },
  {
   "cell_type": "markdown",
   "metadata": {},
   "source": [
    "# Pre-processing "
   ]
  },
  {
   "cell_type": "markdown",
   "metadata": {},
   "source": [
    "### Train Data"
   ]
  },
  {
   "cell_type": "code",
   "execution_count": 1684,
   "metadata": {},
   "outputs": [
    {
     "data": {
      "text/html": [
       "<div>\n",
       "<style scoped>\n",
       "    .dataframe tbody tr th:only-of-type {\n",
       "        vertical-align: middle;\n",
       "    }\n",
       "\n",
       "    .dataframe tbody tr th {\n",
       "        vertical-align: top;\n",
       "    }\n",
       "\n",
       "    .dataframe thead th {\n",
       "        text-align: right;\n",
       "    }\n",
       "</style>\n",
       "<table border=\"1\" class=\"dataframe\">\n",
       "  <thead>\n",
       "    <tr style=\"text-align: right;\">\n",
       "      <th></th>\n",
       "      <th>TripID</th>\n",
       "      <th>departure</th>\n",
       "      <th>arrival</th>\n",
       "      <th>airline</th>\n",
       "      <th>planecode</th>\n",
       "      <th>plane</th>\n",
       "      <th>Bookingdate</th>\n",
       "      <th>currencyCode</th>\n",
       "      <th>departure_airport</th>\n",
       "      <th>departure_date_time</th>\n",
       "      <th>arrival_airport</th>\n",
       "      <th>arrival_date_time</th>\n",
       "      <th>Route</th>\n",
       "      <th>ticketprice</th>\n",
       "      <th>Journey_Day</th>\n",
       "      <th>Journey_WeekDay</th>\n",
       "      <th>Journey_Month</th>\n",
       "      <th>Depature_Time</th>\n",
       "      <th>Arrival_Time</th>\n",
       "      <th>Dep_hour</th>\n",
       "      <th>Dep_Minute</th>\n",
       "      <th>Arrival_hour</th>\n",
       "      <th>Arrival_Minute</th>\n",
       "    </tr>\n",
       "  </thead>\n",
       "  <tbody>\n",
       "    <tr>\n",
       "      <th>0</th>\n",
       "      <td>Trip8907</td>\n",
       "      <td>Bengaluru</td>\n",
       "      <td>Delhi</td>\n",
       "      <td>Vistara</td>\n",
       "      <td>320</td>\n",
       "      <td>Airbus A320</td>\n",
       "      <td>23May2017-12:40:46</td>\n",
       "      <td>INR</td>\n",
       "      <td>Bengaluru, India (BLR-Kempegowda Intl.)</td>\n",
       "      <td>24/05/2017 06:40</td>\n",
       "      <td>Delhi (DEL-Indira Gandhi Intl.)</td>\n",
       "      <td>24/05/2017 14:10</td>\n",
       "      <td>BLR-BOM-DEL</td>\n",
       "      <td>10884</td>\n",
       "      <td>24</td>\n",
       "      <td>2</td>\n",
       "      <td>5</td>\n",
       "      <td>06:40:00</td>\n",
       "      <td>14:10:00</td>\n",
       "      <td>6</td>\n",
       "      <td>40</td>\n",
       "      <td>14</td>\n",
       "      <td>10</td>\n",
       "    </tr>\n",
       "    <tr>\n",
       "      <th>1</th>\n",
       "      <td>Trip19142</td>\n",
       "      <td>Hyderabad</td>\n",
       "      <td>Pune</td>\n",
       "      <td>Vistara</td>\n",
       "      <td>320</td>\n",
       "      <td>Airbus A320</td>\n",
       "      <td>28May2017-15:22:34</td>\n",
       "      <td>INR</td>\n",
       "      <td>Hyderabad (HYD-Rajiv Gandhi Intl.)</td>\n",
       "      <td>01/06/2017 10:10</td>\n",
       "      <td>Pune (PNQ-Lohegaon)</td>\n",
       "      <td>02/06/2017 05:20</td>\n",
       "      <td>HYD-DEL-PNQ</td>\n",
       "      <td>21189</td>\n",
       "      <td>1</td>\n",
       "      <td>3</td>\n",
       "      <td>6</td>\n",
       "      <td>10:10:00</td>\n",
       "      <td>05:20:00</td>\n",
       "      <td>10</td>\n",
       "      <td>10</td>\n",
       "      <td>5</td>\n",
       "      <td>20</td>\n",
       "    </tr>\n",
       "  </tbody>\n",
       "</table>\n",
       "</div>"
      ],
      "text/plain": [
       "      TripID  departure arrival  airline planecode        plane  \\\n",
       "0   Trip8907  Bengaluru   Delhi  Vistara       320  Airbus A320   \n",
       "1  Trip19142  Hyderabad    Pune  Vistara       320  Airbus A320   \n",
       "\n",
       "          Bookingdate currencyCode                         departure_airport  \\\n",
       "0  23May2017-12:40:46          INR  Bengaluru, India (BLR-Kempegowda Intl.)    \n",
       "1  28May2017-15:22:34          INR        Hyderabad (HYD-Rajiv Gandhi Intl.)   \n",
       "\n",
       "  departure_date_time                  arrival_airport arrival_date_time  \\\n",
       "0    24/05/2017 06:40  Delhi (DEL-Indira Gandhi Intl.)  24/05/2017 14:10   \n",
       "1    01/06/2017 10:10              Pune (PNQ-Lohegaon)  02/06/2017 05:20   \n",
       "\n",
       "         Route  ticketprice  Journey_Day  Journey_WeekDay  Journey_Month  \\\n",
       "0  BLR-BOM-DEL        10884           24                2              5   \n",
       "1  HYD-DEL-PNQ        21189            1                3              6   \n",
       "\n",
       "  Depature_Time Arrival_Time  Dep_hour  Dep_Minute  Arrival_hour  \\\n",
       "0      06:40:00     14:10:00         6          40            14   \n",
       "1      10:10:00     05:20:00        10          10             5   \n",
       "\n",
       "   Arrival_Minute  \n",
       "0              10  \n",
       "1              20  "
      ]
     },
     "execution_count": 1684,
     "metadata": {},
     "output_type": "execute_result"
    }
   ],
   "source": [
    "# Creating new columns from departure and arrival date time columns\n",
    "from datetime import datetime, date\n",
    "\n",
    "flight_train['Journey_Day'] = pd.to_datetime(flight_train.departure_date_time , format = '%d/%m/%Y %H:%M').dt.day\n",
    "flight_train['Journey_WeekDay'] = pd.to_datetime(flight_train.departure_date_time , format = '%d/%m/%Y %H:%M').dt.weekday\n",
    "flight_train['Journey_Month'] = pd.to_datetime(flight_train.departure_date_time , format = '%d/%m/%Y %H:%M').dt.month\n",
    "flight_train['Depature_Time'] = pd.to_datetime(flight_train.departure_date_time , format = '%d/%m/%Y %H:%M').dt.time\n",
    "flight_train['Arrival_Time'] = pd.to_datetime(flight_train.arrival_date_time , format = '%d/%m/%Y %H:%M').dt.time\n",
    "\n",
    "flight_train['Dep_hour'] = pd.to_datetime(flight_train.departure_date_time , format = '%d/%m/%Y %H:%M' ).dt.hour\n",
    "flight_train['Dep_Minute'] = pd.to_datetime(flight_train.departure_date_time , format = '%d/%m/%Y %H:%M' ).dt.minute\n",
    "\n",
    "flight_train['Arrival_hour'] = pd.to_datetime(flight_train.arrival_date_time , format = '%d/%m/%Y %H:%M').dt.hour\n",
    "flight_train['Arrival_Minute'] = pd.to_datetime(flight_train.arrival_date_time , format = '%d/%m/%Y %H:%M').dt.minute\n",
    "flight_train.head(2)"
   ]
  },
  {
   "cell_type": "code",
   "execution_count": 1685,
   "metadata": {},
   "outputs": [],
   "source": [
    "# Creating columns: day of week of booking, hour of booking\n",
    "flight_train['booking_day'] =pd.to_datetime(flight_train.Bookingdate , format = \"%d%B%Y-%H:%M:%S\").dt.weekday\n",
    "flight_train['Bookingdate_hour'] =pd.to_datetime(flight_train.Bookingdate , format = \"%d%B%Y-%H:%M:%S\").dt.hour"
   ]
  },
  {
   "cell_type": "code",
   "execution_count": 1686,
   "metadata": {},
   "outputs": [],
   "source": [
    "#Creating column: if the booking was done in Peak season or not\n",
    "def season (x):\n",
    "    if x in range(5,9):\n",
    "        return 'Off Peak Season'\n",
    "    else:\n",
    "        return 'Peak Season'\n",
    "\n",
    "\n",
    "flight_train['Season']=flight_train['Journey_Month'].apply(season)"
   ]
  },
  {
   "cell_type": "code",
   "execution_count": 1687,
   "metadata": {},
   "outputs": [],
   "source": [
    "#Creating column: if the booking was done in Peak Hours or not\n",
    "def get_day_period(x):\n",
    "    if x in range(8,11):\n",
    "        return 'Peak Hours'\n",
    "    else:\n",
    "        return 'Off Peak Hours'\n",
    "\n",
    "flight_train['Daytime']=flight_train['Bookingdate_hour'].apply(get_day_period)"
   ]
  },
  {
   "cell_type": "code",
   "execution_count": 1688,
   "metadata": {},
   "outputs": [
    {
     "data": {
      "text/html": [
       "<div>\n",
       "<style scoped>\n",
       "    .dataframe tbody tr th:only-of-type {\n",
       "        vertical-align: middle;\n",
       "    }\n",
       "\n",
       "    .dataframe tbody tr th {\n",
       "        vertical-align: top;\n",
       "    }\n",
       "\n",
       "    .dataframe thead th {\n",
       "        text-align: right;\n",
       "    }\n",
       "</style>\n",
       "<table border=\"1\" class=\"dataframe\">\n",
       "  <thead>\n",
       "    <tr style=\"text-align: right;\">\n",
       "      <th></th>\n",
       "      <th>TripID</th>\n",
       "      <th>departure</th>\n",
       "      <th>arrival</th>\n",
       "      <th>airline</th>\n",
       "      <th>planecode</th>\n",
       "      <th>plane</th>\n",
       "      <th>Bookingdate</th>\n",
       "      <th>currencyCode</th>\n",
       "      <th>departure_airport</th>\n",
       "      <th>departure_date_time</th>\n",
       "      <th>arrival_airport</th>\n",
       "      <th>arrival_date_time</th>\n",
       "      <th>Route</th>\n",
       "      <th>ticketprice</th>\n",
       "      <th>Journey_Day</th>\n",
       "      <th>Journey_WeekDay</th>\n",
       "      <th>Journey_Month</th>\n",
       "      <th>Depature_Time</th>\n",
       "      <th>Arrival_Time</th>\n",
       "      <th>Dep_hour</th>\n",
       "      <th>Dep_Minute</th>\n",
       "      <th>Arrival_hour</th>\n",
       "      <th>Arrival_Minute</th>\n",
       "      <th>booking_day</th>\n",
       "      <th>Bookingdate_hour</th>\n",
       "      <th>Season</th>\n",
       "      <th>Daytime</th>\n",
       "    </tr>\n",
       "  </thead>\n",
       "  <tbody>\n",
       "    <tr>\n",
       "      <th>0</th>\n",
       "      <td>Trip8907</td>\n",
       "      <td>Bengaluru</td>\n",
       "      <td>Delhi</td>\n",
       "      <td>Vistara</td>\n",
       "      <td>320</td>\n",
       "      <td>Airbus A320</td>\n",
       "      <td>23May2017-12:40:46</td>\n",
       "      <td>INR</td>\n",
       "      <td>Bengaluru, India (BLR-Kempegowda Intl.)</td>\n",
       "      <td>24/05/2017 06:40</td>\n",
       "      <td>Delhi (DEL-Indira Gandhi Intl.)</td>\n",
       "      <td>24/05/2017 14:10</td>\n",
       "      <td>BLR-BOM-DEL</td>\n",
       "      <td>10884</td>\n",
       "      <td>24</td>\n",
       "      <td>2</td>\n",
       "      <td>5</td>\n",
       "      <td>06:40:00</td>\n",
       "      <td>14:10:00</td>\n",
       "      <td>6</td>\n",
       "      <td>40</td>\n",
       "      <td>14</td>\n",
       "      <td>10</td>\n",
       "      <td>1</td>\n",
       "      <td>12</td>\n",
       "      <td>Off Peak Season</td>\n",
       "      <td>Off Peak Hours</td>\n",
       "    </tr>\n",
       "    <tr>\n",
       "      <th>1</th>\n",
       "      <td>Trip19142</td>\n",
       "      <td>Hyderabad</td>\n",
       "      <td>Pune</td>\n",
       "      <td>Vistara</td>\n",
       "      <td>320</td>\n",
       "      <td>Airbus A320</td>\n",
       "      <td>28May2017-15:22:34</td>\n",
       "      <td>INR</td>\n",
       "      <td>Hyderabad (HYD-Rajiv Gandhi Intl.)</td>\n",
       "      <td>01/06/2017 10:10</td>\n",
       "      <td>Pune (PNQ-Lohegaon)</td>\n",
       "      <td>02/06/2017 05:20</td>\n",
       "      <td>HYD-DEL-PNQ</td>\n",
       "      <td>21189</td>\n",
       "      <td>1</td>\n",
       "      <td>3</td>\n",
       "      <td>6</td>\n",
       "      <td>10:10:00</td>\n",
       "      <td>05:20:00</td>\n",
       "      <td>10</td>\n",
       "      <td>10</td>\n",
       "      <td>5</td>\n",
       "      <td>20</td>\n",
       "      <td>6</td>\n",
       "      <td>15</td>\n",
       "      <td>Off Peak Season</td>\n",
       "      <td>Off Peak Hours</td>\n",
       "    </tr>\n",
       "  </tbody>\n",
       "</table>\n",
       "</div>"
      ],
      "text/plain": [
       "      TripID  departure arrival  airline planecode        plane  \\\n",
       "0   Trip8907  Bengaluru   Delhi  Vistara       320  Airbus A320   \n",
       "1  Trip19142  Hyderabad    Pune  Vistara       320  Airbus A320   \n",
       "\n",
       "          Bookingdate currencyCode                         departure_airport  \\\n",
       "0  23May2017-12:40:46          INR  Bengaluru, India (BLR-Kempegowda Intl.)    \n",
       "1  28May2017-15:22:34          INR        Hyderabad (HYD-Rajiv Gandhi Intl.)   \n",
       "\n",
       "  departure_date_time                  arrival_airport arrival_date_time  \\\n",
       "0    24/05/2017 06:40  Delhi (DEL-Indira Gandhi Intl.)  24/05/2017 14:10   \n",
       "1    01/06/2017 10:10              Pune (PNQ-Lohegaon)  02/06/2017 05:20   \n",
       "\n",
       "         Route  ticketprice  Journey_Day  Journey_WeekDay  Journey_Month  \\\n",
       "0  BLR-BOM-DEL        10884           24                2              5   \n",
       "1  HYD-DEL-PNQ        21189            1                3              6   \n",
       "\n",
       "  Depature_Time Arrival_Time  Dep_hour  Dep_Minute  Arrival_hour  \\\n",
       "0      06:40:00     14:10:00         6          40            14   \n",
       "1      10:10:00     05:20:00        10          10             5   \n",
       "\n",
       "   Arrival_Minute  booking_day  Bookingdate_hour           Season  \\\n",
       "0              10            1                12  Off Peak Season   \n",
       "1              20            6                15  Off Peak Season   \n",
       "\n",
       "          Daytime  \n",
       "0  Off Peak Hours  \n",
       "1  Off Peak Hours  "
      ]
     },
     "execution_count": 1688,
     "metadata": {},
     "output_type": "execute_result"
    }
   ],
   "source": [
    "flight_train.head(2)"
   ]
  },
  {
   "cell_type": "code",
   "execution_count": 1689,
   "metadata": {},
   "outputs": [],
   "source": [
    "# Finding duration of a flight in minutes, and adding it as a new column\n",
    "\n",
    "from datetime import datetime\n",
    "a=[]\n",
    "b=[]\n",
    "c=[]\n",
    "mins=[]\n",
    "for d in flight_train.departure_date_time:\n",
    "    date1 = (datetime.strptime(d, \"%d/%m/%Y %H:%M\"))\n",
    "    a.append(date1)\n",
    "for d in flight_train.arrival_date_time:\n",
    "    date2 = datetime.strptime(d, \"%d/%m/%Y %H:%M\")   \n",
    "    b.append(date2)\n",
    "for i in range(len(flight_train.arrival_date_time)):\n",
    "    difference= b[i]-a[i]\n",
    "    c.append(difference)\n",
    "    minutes =(b[i]-a[i]).total_seconds() / 60\n",
    "    mins.append(minutes)\n",
    "\n",
    "flight_train['mins_of_journey']= mins"
   ]
  },
  {
   "cell_type": "code",
   "execution_count": 1690,
   "metadata": {},
   "outputs": [
    {
     "data": {
      "text/html": [
       "<div>\n",
       "<style scoped>\n",
       "    .dataframe tbody tr th:only-of-type {\n",
       "        vertical-align: middle;\n",
       "    }\n",
       "\n",
       "    .dataframe tbody tr th {\n",
       "        vertical-align: top;\n",
       "    }\n",
       "\n",
       "    .dataframe thead th {\n",
       "        text-align: right;\n",
       "    }\n",
       "</style>\n",
       "<table border=\"1\" class=\"dataframe\">\n",
       "  <thead>\n",
       "    <tr style=\"text-align: right;\">\n",
       "      <th></th>\n",
       "      <th>TripID</th>\n",
       "      <th>departure</th>\n",
       "      <th>arrival</th>\n",
       "      <th>airline</th>\n",
       "      <th>planecode</th>\n",
       "      <th>plane</th>\n",
       "      <th>Bookingdate</th>\n",
       "      <th>currencyCode</th>\n",
       "      <th>departure_airport</th>\n",
       "      <th>departure_date_time</th>\n",
       "      <th>arrival_airport</th>\n",
       "      <th>arrival_date_time</th>\n",
       "      <th>Route</th>\n",
       "      <th>ticketprice</th>\n",
       "      <th>Journey_Day</th>\n",
       "      <th>Journey_WeekDay</th>\n",
       "      <th>Journey_Month</th>\n",
       "      <th>Depature_Time</th>\n",
       "      <th>Arrival_Time</th>\n",
       "      <th>Dep_hour</th>\n",
       "      <th>Dep_Minute</th>\n",
       "      <th>Arrival_hour</th>\n",
       "      <th>Arrival_Minute</th>\n",
       "      <th>booking_day</th>\n",
       "      <th>Bookingdate_hour</th>\n",
       "      <th>Season</th>\n",
       "      <th>Daytime</th>\n",
       "      <th>mins_of_journey</th>\n",
       "    </tr>\n",
       "  </thead>\n",
       "  <tbody>\n",
       "    <tr>\n",
       "      <th>0</th>\n",
       "      <td>Trip8907</td>\n",
       "      <td>Bengaluru</td>\n",
       "      <td>Delhi</td>\n",
       "      <td>Vistara</td>\n",
       "      <td>320</td>\n",
       "      <td>Airbus A320</td>\n",
       "      <td>23May2017-12:40:46</td>\n",
       "      <td>INR</td>\n",
       "      <td>Bengaluru, India (BLR-Kempegowda Intl.)</td>\n",
       "      <td>24/05/2017 06:40</td>\n",
       "      <td>Delhi (DEL-Indira Gandhi Intl.)</td>\n",
       "      <td>24/05/2017 14:10</td>\n",
       "      <td>BLR-BOM-DEL</td>\n",
       "      <td>10884</td>\n",
       "      <td>24</td>\n",
       "      <td>2</td>\n",
       "      <td>5</td>\n",
       "      <td>06:40:00</td>\n",
       "      <td>14:10:00</td>\n",
       "      <td>6</td>\n",
       "      <td>40</td>\n",
       "      <td>14</td>\n",
       "      <td>10</td>\n",
       "      <td>1</td>\n",
       "      <td>12</td>\n",
       "      <td>Off Peak Season</td>\n",
       "      <td>Off Peak Hours</td>\n",
       "      <td>450.0</td>\n",
       "    </tr>\n",
       "    <tr>\n",
       "      <th>1</th>\n",
       "      <td>Trip19142</td>\n",
       "      <td>Hyderabad</td>\n",
       "      <td>Pune</td>\n",
       "      <td>Vistara</td>\n",
       "      <td>320</td>\n",
       "      <td>Airbus A320</td>\n",
       "      <td>28May2017-15:22:34</td>\n",
       "      <td>INR</td>\n",
       "      <td>Hyderabad (HYD-Rajiv Gandhi Intl.)</td>\n",
       "      <td>01/06/2017 10:10</td>\n",
       "      <td>Pune (PNQ-Lohegaon)</td>\n",
       "      <td>02/06/2017 05:20</td>\n",
       "      <td>HYD-DEL-PNQ</td>\n",
       "      <td>21189</td>\n",
       "      <td>1</td>\n",
       "      <td>3</td>\n",
       "      <td>6</td>\n",
       "      <td>10:10:00</td>\n",
       "      <td>05:20:00</td>\n",
       "      <td>10</td>\n",
       "      <td>10</td>\n",
       "      <td>5</td>\n",
       "      <td>20</td>\n",
       "      <td>6</td>\n",
       "      <td>15</td>\n",
       "      <td>Off Peak Season</td>\n",
       "      <td>Off Peak Hours</td>\n",
       "      <td>1150.0</td>\n",
       "    </tr>\n",
       "  </tbody>\n",
       "</table>\n",
       "</div>"
      ],
      "text/plain": [
       "      TripID  departure arrival  airline planecode        plane  \\\n",
       "0   Trip8907  Bengaluru   Delhi  Vistara       320  Airbus A320   \n",
       "1  Trip19142  Hyderabad    Pune  Vistara       320  Airbus A320   \n",
       "\n",
       "          Bookingdate currencyCode                         departure_airport  \\\n",
       "0  23May2017-12:40:46          INR  Bengaluru, India (BLR-Kempegowda Intl.)    \n",
       "1  28May2017-15:22:34          INR        Hyderabad (HYD-Rajiv Gandhi Intl.)   \n",
       "\n",
       "  departure_date_time                  arrival_airport arrival_date_time  \\\n",
       "0    24/05/2017 06:40  Delhi (DEL-Indira Gandhi Intl.)  24/05/2017 14:10   \n",
       "1    01/06/2017 10:10              Pune (PNQ-Lohegaon)  02/06/2017 05:20   \n",
       "\n",
       "         Route  ticketprice  Journey_Day  Journey_WeekDay  Journey_Month  \\\n",
       "0  BLR-BOM-DEL        10884           24                2              5   \n",
       "1  HYD-DEL-PNQ        21189            1                3              6   \n",
       "\n",
       "  Depature_Time Arrival_Time  Dep_hour  Dep_Minute  Arrival_hour  \\\n",
       "0      06:40:00     14:10:00         6          40            14   \n",
       "1      10:10:00     05:20:00        10          10             5   \n",
       "\n",
       "   Arrival_Minute  booking_day  Bookingdate_hour           Season  \\\n",
       "0              10            1                12  Off Peak Season   \n",
       "1              20            6                15  Off Peak Season   \n",
       "\n",
       "          Daytime  mins_of_journey  \n",
       "0  Off Peak Hours            450.0  \n",
       "1  Off Peak Hours           1150.0  "
      ]
     },
     "execution_count": 1690,
     "metadata": {},
     "output_type": "execute_result"
    }
   ],
   "source": [
    "flight_train.head(2)"
   ]
  },
  {
   "cell_type": "code",
   "execution_count": 1691,
   "metadata": {},
   "outputs": [
    {
     "data": {
      "text/html": [
       "<div>\n",
       "<style scoped>\n",
       "    .dataframe tbody tr th:only-of-type {\n",
       "        vertical-align: middle;\n",
       "    }\n",
       "\n",
       "    .dataframe tbody tr th {\n",
       "        vertical-align: top;\n",
       "    }\n",
       "\n",
       "    .dataframe thead th {\n",
       "        text-align: right;\n",
       "    }\n",
       "</style>\n",
       "<table border=\"1\" class=\"dataframe\">\n",
       "  <thead>\n",
       "    <tr style=\"text-align: right;\">\n",
       "      <th></th>\n",
       "      <th>TripID</th>\n",
       "      <th>departure</th>\n",
       "      <th>arrival</th>\n",
       "      <th>airline</th>\n",
       "      <th>planecode</th>\n",
       "      <th>plane</th>\n",
       "      <th>Bookingdate</th>\n",
       "      <th>currencyCode</th>\n",
       "      <th>departure_airport</th>\n",
       "      <th>departure_date_time</th>\n",
       "      <th>arrival_airport</th>\n",
       "      <th>arrival_date_time</th>\n",
       "      <th>Route</th>\n",
       "      <th>ticketprice</th>\n",
       "      <th>Journey_Day</th>\n",
       "      <th>Journey_WeekDay</th>\n",
       "      <th>Journey_Month</th>\n",
       "      <th>Depature_Time</th>\n",
       "      <th>Arrival_Time</th>\n",
       "      <th>Dep_hour</th>\n",
       "      <th>Dep_Minute</th>\n",
       "      <th>Arrival_hour</th>\n",
       "      <th>Arrival_Minute</th>\n",
       "      <th>booking_day</th>\n",
       "      <th>Bookingdate_hour</th>\n",
       "      <th>Season</th>\n",
       "      <th>Daytime</th>\n",
       "      <th>mins_of_journey</th>\n",
       "      <th>prrior_booking_days</th>\n",
       "    </tr>\n",
       "  </thead>\n",
       "  <tbody>\n",
       "    <tr>\n",
       "      <th>0</th>\n",
       "      <td>Trip8907</td>\n",
       "      <td>Bengaluru</td>\n",
       "      <td>Delhi</td>\n",
       "      <td>Vistara</td>\n",
       "      <td>320</td>\n",
       "      <td>Airbus A320</td>\n",
       "      <td>2017-05-23 12:40:46</td>\n",
       "      <td>INR</td>\n",
       "      <td>Bengaluru, India (BLR-Kempegowda Intl.)</td>\n",
       "      <td>2017-05-24 06:40:00</td>\n",
       "      <td>Delhi (DEL-Indira Gandhi Intl.)</td>\n",
       "      <td>24/05/2017 14:10</td>\n",
       "      <td>BLR-BOM-DEL</td>\n",
       "      <td>10884</td>\n",
       "      <td>24</td>\n",
       "      <td>2</td>\n",
       "      <td>5</td>\n",
       "      <td>06:40:00</td>\n",
       "      <td>14:10:00</td>\n",
       "      <td>6</td>\n",
       "      <td>40</td>\n",
       "      <td>14</td>\n",
       "      <td>10</td>\n",
       "      <td>1</td>\n",
       "      <td>12</td>\n",
       "      <td>Off Peak Season</td>\n",
       "      <td>Off Peak Hours</td>\n",
       "      <td>450.0</td>\n",
       "      <td>0</td>\n",
       "    </tr>\n",
       "    <tr>\n",
       "      <th>1</th>\n",
       "      <td>Trip19142</td>\n",
       "      <td>Hyderabad</td>\n",
       "      <td>Pune</td>\n",
       "      <td>Vistara</td>\n",
       "      <td>320</td>\n",
       "      <td>Airbus A320</td>\n",
       "      <td>2017-05-28 15:22:34</td>\n",
       "      <td>INR</td>\n",
       "      <td>Hyderabad (HYD-Rajiv Gandhi Intl.)</td>\n",
       "      <td>2017-06-01 10:10:00</td>\n",
       "      <td>Pune (PNQ-Lohegaon)</td>\n",
       "      <td>02/06/2017 05:20</td>\n",
       "      <td>HYD-DEL-PNQ</td>\n",
       "      <td>21189</td>\n",
       "      <td>1</td>\n",
       "      <td>3</td>\n",
       "      <td>6</td>\n",
       "      <td>10:10:00</td>\n",
       "      <td>05:20:00</td>\n",
       "      <td>10</td>\n",
       "      <td>10</td>\n",
       "      <td>5</td>\n",
       "      <td>20</td>\n",
       "      <td>6</td>\n",
       "      <td>15</td>\n",
       "      <td>Off Peak Season</td>\n",
       "      <td>Off Peak Hours</td>\n",
       "      <td>1150.0</td>\n",
       "      <td>3</td>\n",
       "    </tr>\n",
       "  </tbody>\n",
       "</table>\n",
       "</div>"
      ],
      "text/plain": [
       "      TripID  departure arrival  airline planecode        plane  \\\n",
       "0   Trip8907  Bengaluru   Delhi  Vistara       320  Airbus A320   \n",
       "1  Trip19142  Hyderabad    Pune  Vistara       320  Airbus A320   \n",
       "\n",
       "          Bookingdate currencyCode                         departure_airport  \\\n",
       "0 2017-05-23 12:40:46          INR  Bengaluru, India (BLR-Kempegowda Intl.)    \n",
       "1 2017-05-28 15:22:34          INR        Hyderabad (HYD-Rajiv Gandhi Intl.)   \n",
       "\n",
       "  departure_date_time                  arrival_airport arrival_date_time  \\\n",
       "0 2017-05-24 06:40:00  Delhi (DEL-Indira Gandhi Intl.)  24/05/2017 14:10   \n",
       "1 2017-06-01 10:10:00              Pune (PNQ-Lohegaon)  02/06/2017 05:20   \n",
       "\n",
       "         Route  ticketprice  Journey_Day  Journey_WeekDay  Journey_Month  \\\n",
       "0  BLR-BOM-DEL        10884           24                2              5   \n",
       "1  HYD-DEL-PNQ        21189            1                3              6   \n",
       "\n",
       "  Depature_Time Arrival_Time  Dep_hour  Dep_Minute  Arrival_hour  \\\n",
       "0      06:40:00     14:10:00         6          40            14   \n",
       "1      10:10:00     05:20:00        10          10             5   \n",
       "\n",
       "   Arrival_Minute  booking_day  Bookingdate_hour           Season  \\\n",
       "0              10            1                12  Off Peak Season   \n",
       "1              20            6                15  Off Peak Season   \n",
       "\n",
       "          Daytime  mins_of_journey  prrior_booking_days  \n",
       "0  Off Peak Hours            450.0                    0  \n",
       "1  Off Peak Hours           1150.0                    3  "
      ]
     },
     "execution_count": 1691,
     "metadata": {},
     "output_type": "execute_result"
    }
   ],
   "source": [
    "# Creating a column to find how many days before the flight was the ticket booked\n",
    "flight_train.departure_date_time =pd.to_datetime(flight_train.departure_date_time , format = '%d/%m/%Y %H:%M')\n",
    "flight_train['Bookingdate'] =pd.to_datetime(flight_train.Bookingdate , format = \"%d%B%Y-%H:%M:%S\")\n",
    "flight_train['prrior_booking_days'] = (flight_train['departure_date_time']-flight_train['Bookingdate']  ).dt.days     \n",
    "\n",
    "flight_train.head(2)"
   ]
  },
  {
   "cell_type": "code",
   "execution_count": 1692,
   "metadata": {},
   "outputs": [],
   "source": [
    "flight_train.drop(columns=['Depature_Time' , 'departure_date_time'],inplace=True)"
   ]
  },
  {
   "cell_type": "code",
   "execution_count": 1693,
   "metadata": {},
   "outputs": [],
   "source": [
    "flight_train.drop(columns='Arrival_Time',inplace=True)"
   ]
  },
  {
   "cell_type": "code",
   "execution_count": 1694,
   "metadata": {},
   "outputs": [
    {
     "data": {
      "text/html": [
       "<div>\n",
       "<style scoped>\n",
       "    .dataframe tbody tr th:only-of-type {\n",
       "        vertical-align: middle;\n",
       "    }\n",
       "\n",
       "    .dataframe tbody tr th {\n",
       "        vertical-align: top;\n",
       "    }\n",
       "\n",
       "    .dataframe thead th {\n",
       "        text-align: right;\n",
       "    }\n",
       "</style>\n",
       "<table border=\"1\" class=\"dataframe\">\n",
       "  <thead>\n",
       "    <tr style=\"text-align: right;\">\n",
       "      <th></th>\n",
       "      <th>TripID</th>\n",
       "      <th>departure</th>\n",
       "      <th>arrival</th>\n",
       "      <th>airline</th>\n",
       "      <th>planecode</th>\n",
       "      <th>plane</th>\n",
       "      <th>Bookingdate</th>\n",
       "      <th>currencyCode</th>\n",
       "      <th>departure_airport</th>\n",
       "      <th>arrival_airport</th>\n",
       "      <th>arrival_date_time</th>\n",
       "      <th>Route</th>\n",
       "      <th>ticketprice</th>\n",
       "      <th>Journey_Day</th>\n",
       "      <th>Journey_WeekDay</th>\n",
       "      <th>Journey_Month</th>\n",
       "      <th>Dep_hour</th>\n",
       "      <th>Dep_Minute</th>\n",
       "      <th>Arrival_hour</th>\n",
       "      <th>Arrival_Minute</th>\n",
       "      <th>booking_day</th>\n",
       "      <th>Bookingdate_hour</th>\n",
       "      <th>Season</th>\n",
       "      <th>Daytime</th>\n",
       "      <th>mins_of_journey</th>\n",
       "      <th>prrior_booking_days</th>\n",
       "      <th>No_of_stops</th>\n",
       "    </tr>\n",
       "  </thead>\n",
       "  <tbody>\n",
       "    <tr>\n",
       "      <th>0</th>\n",
       "      <td>Trip8907</td>\n",
       "      <td>Bengaluru</td>\n",
       "      <td>Delhi</td>\n",
       "      <td>Vistara</td>\n",
       "      <td>320</td>\n",
       "      <td>Airbus A320</td>\n",
       "      <td>2017-05-23 12:40:46</td>\n",
       "      <td>INR</td>\n",
       "      <td>Bengaluru, India (BLR-Kempegowda Intl.)</td>\n",
       "      <td>Delhi (DEL-Indira Gandhi Intl.)</td>\n",
       "      <td>24/05/2017 14:10</td>\n",
       "      <td>BLR-BOM-DEL</td>\n",
       "      <td>10884</td>\n",
       "      <td>24</td>\n",
       "      <td>2</td>\n",
       "      <td>5</td>\n",
       "      <td>6</td>\n",
       "      <td>40</td>\n",
       "      <td>14</td>\n",
       "      <td>10</td>\n",
       "      <td>1</td>\n",
       "      <td>12</td>\n",
       "      <td>Off Peak Season</td>\n",
       "      <td>Off Peak Hours</td>\n",
       "      <td>450.0</td>\n",
       "      <td>0</td>\n",
       "      <td>1</td>\n",
       "    </tr>\n",
       "    <tr>\n",
       "      <th>1</th>\n",
       "      <td>Trip19142</td>\n",
       "      <td>Hyderabad</td>\n",
       "      <td>Pune</td>\n",
       "      <td>Vistara</td>\n",
       "      <td>320</td>\n",
       "      <td>Airbus A320</td>\n",
       "      <td>2017-05-28 15:22:34</td>\n",
       "      <td>INR</td>\n",
       "      <td>Hyderabad (HYD-Rajiv Gandhi Intl.)</td>\n",
       "      <td>Pune (PNQ-Lohegaon)</td>\n",
       "      <td>02/06/2017 05:20</td>\n",
       "      <td>HYD-DEL-PNQ</td>\n",
       "      <td>21189</td>\n",
       "      <td>1</td>\n",
       "      <td>3</td>\n",
       "      <td>6</td>\n",
       "      <td>10</td>\n",
       "      <td>10</td>\n",
       "      <td>5</td>\n",
       "      <td>20</td>\n",
       "      <td>6</td>\n",
       "      <td>15</td>\n",
       "      <td>Off Peak Season</td>\n",
       "      <td>Off Peak Hours</td>\n",
       "      <td>1150.0</td>\n",
       "      <td>3</td>\n",
       "      <td>1</td>\n",
       "    </tr>\n",
       "  </tbody>\n",
       "</table>\n",
       "</div>"
      ],
      "text/plain": [
       "      TripID  departure arrival  airline planecode        plane  \\\n",
       "0   Trip8907  Bengaluru   Delhi  Vistara       320  Airbus A320   \n",
       "1  Trip19142  Hyderabad    Pune  Vistara       320  Airbus A320   \n",
       "\n",
       "          Bookingdate currencyCode                         departure_airport  \\\n",
       "0 2017-05-23 12:40:46          INR  Bengaluru, India (BLR-Kempegowda Intl.)    \n",
       "1 2017-05-28 15:22:34          INR        Hyderabad (HYD-Rajiv Gandhi Intl.)   \n",
       "\n",
       "                   arrival_airport arrival_date_time        Route  \\\n",
       "0  Delhi (DEL-Indira Gandhi Intl.)  24/05/2017 14:10  BLR-BOM-DEL   \n",
       "1              Pune (PNQ-Lohegaon)  02/06/2017 05:20  HYD-DEL-PNQ   \n",
       "\n",
       "   ticketprice  Journey_Day  Journey_WeekDay  Journey_Month  Dep_hour  \\\n",
       "0        10884           24                2              5         6   \n",
       "1        21189            1                3              6        10   \n",
       "\n",
       "   Dep_Minute  Arrival_hour  Arrival_Minute  booking_day  Bookingdate_hour  \\\n",
       "0          40            14              10            1                12   \n",
       "1          10             5              20            6                15   \n",
       "\n",
       "            Season         Daytime  mins_of_journey  prrior_booking_days  \\\n",
       "0  Off Peak Season  Off Peak Hours            450.0                    0   \n",
       "1  Off Peak Season  Off Peak Hours           1150.0                    3   \n",
       "\n",
       "   No_of_stops  \n",
       "0            1  \n",
       "1            1  "
      ]
     },
     "execution_count": 1694,
     "metadata": {},
     "output_type": "execute_result"
    }
   ],
   "source": [
    "# If the flight was direct or a connecting flight.\n",
    "stops=[]    \n",
    "for i in range(len(flight_train.Route)):\n",
    "    counter= flight_train.Route[i].count('-')\n",
    "    stops.append(counter-1)\n",
    "\n",
    "flight_train['No_of_stops']= stops\n",
    "\n",
    "flight_train.head(2)"
   ]
  },
  {
   "cell_type": "code",
   "execution_count": 1695,
   "metadata": {},
   "outputs": [
    {
     "data": {
      "text/plain": [
       "1    15463\n",
       "0     6839\n",
       "2     1698\n",
       "Name: No_of_stops, dtype: int64"
      ]
     },
     "execution_count": 1695,
     "metadata": {},
     "output_type": "execute_result"
    }
   ],
   "source": [
    "# Getting value_counts of different categorical columns and dummifying categorical columns\n",
    "flight_train['No_of_stops'].value_counts()"
   ]
  },
  {
   "cell_type": "code",
   "execution_count": 1696,
   "metadata": {},
   "outputs": [
    {
     "data": {
      "text/plain": [
       "320    19960\n",
       "737     2682\n",
       "AT7      727\n",
       "DH8      569\n",
       "321       62\n",
       "Name: planecode, dtype: int64"
      ]
     },
     "execution_count": 1696,
     "metadata": {},
     "output_type": "execute_result"
    }
   ],
   "source": [
    "flight_train['planecode'].value_counts()"
   ]
  },
  {
   "cell_type": "code",
   "execution_count": 1697,
   "metadata": {},
   "outputs": [
    {
     "data": {
      "text/plain": [
       "Airbus A320          19960\n",
       "Boeing 737            2682\n",
       "ATR 72                 727\n",
       "De Havilland 8         472\n",
       "Dehavilland DHC-8       97\n",
       "Airbus A321             62\n",
       "Name: plane, dtype: int64"
      ]
     },
     "execution_count": 1697,
     "metadata": {},
     "output_type": "execute_result"
    }
   ],
   "source": [
    "flight_train['plane'].value_counts()\n",
    "#planecode and plane give the same info"
   ]
  },
  {
   "cell_type": "code",
   "execution_count": 1698,
   "metadata": {},
   "outputs": [
    {
     "data": {
      "text/html": [
       "<div>\n",
       "<style scoped>\n",
       "    .dataframe tbody tr th:only-of-type {\n",
       "        vertical-align: middle;\n",
       "    }\n",
       "\n",
       "    .dataframe tbody tr th {\n",
       "        vertical-align: top;\n",
       "    }\n",
       "\n",
       "    .dataframe thead th {\n",
       "        text-align: right;\n",
       "    }\n",
       "</style>\n",
       "<table border=\"1\" class=\"dataframe\">\n",
       "  <thead>\n",
       "    <tr style=\"text-align: right;\">\n",
       "      <th></th>\n",
       "      <th>321</th>\n",
       "      <th>737</th>\n",
       "      <th>AT7</th>\n",
       "      <th>DH8</th>\n",
       "    </tr>\n",
       "  </thead>\n",
       "  <tbody>\n",
       "    <tr>\n",
       "      <th>0</th>\n",
       "      <td>0</td>\n",
       "      <td>0</td>\n",
       "      <td>0</td>\n",
       "      <td>0</td>\n",
       "    </tr>\n",
       "    <tr>\n",
       "      <th>1</th>\n",
       "      <td>0</td>\n",
       "      <td>0</td>\n",
       "      <td>0</td>\n",
       "      <td>0</td>\n",
       "    </tr>\n",
       "    <tr>\n",
       "      <th>2</th>\n",
       "      <td>0</td>\n",
       "      <td>0</td>\n",
       "      <td>0</td>\n",
       "      <td>0</td>\n",
       "    </tr>\n",
       "    <tr>\n",
       "      <th>3</th>\n",
       "      <td>0</td>\n",
       "      <td>0</td>\n",
       "      <td>0</td>\n",
       "      <td>0</td>\n",
       "    </tr>\n",
       "    <tr>\n",
       "      <th>4</th>\n",
       "      <td>0</td>\n",
       "      <td>0</td>\n",
       "      <td>0</td>\n",
       "      <td>0</td>\n",
       "    </tr>\n",
       "  </tbody>\n",
       "</table>\n",
       "</div>"
      ],
      "text/plain": [
       "   321  737  AT7  DH8\n",
       "0    0    0    0    0\n",
       "1    0    0    0    0\n",
       "2    0    0    0    0\n",
       "3    0    0    0    0\n",
       "4    0    0    0    0"
      ]
     },
     "execution_count": 1698,
     "metadata": {},
     "output_type": "execute_result"
    }
   ],
   "source": [
    "planecode = flight_train['planecode']\n",
    "planecode = pd.get_dummies(planecode , drop_first=True)\n",
    "planecode.head()"
   ]
  },
  {
   "cell_type": "code",
   "execution_count": 1699,
   "metadata": {},
   "outputs": [
    {
     "data": {
      "text/html": [
       "<div>\n",
       "<style scoped>\n",
       "    .dataframe tbody tr th:only-of-type {\n",
       "        vertical-align: middle;\n",
       "    }\n",
       "\n",
       "    .dataframe tbody tr th {\n",
       "        vertical-align: top;\n",
       "    }\n",
       "\n",
       "    .dataframe thead th {\n",
       "        text-align: right;\n",
       "    }\n",
       "</style>\n",
       "<table border=\"1\" class=\"dataframe\">\n",
       "  <thead>\n",
       "    <tr style=\"text-align: right;\">\n",
       "      <th></th>\n",
       "      <th>Peak Season</th>\n",
       "    </tr>\n",
       "  </thead>\n",
       "  <tbody>\n",
       "    <tr>\n",
       "      <th>0</th>\n",
       "      <td>0</td>\n",
       "    </tr>\n",
       "    <tr>\n",
       "      <th>1</th>\n",
       "      <td>0</td>\n",
       "    </tr>\n",
       "  </tbody>\n",
       "</table>\n",
       "</div>"
      ],
      "text/plain": [
       "   Peak Season\n",
       "0            0\n",
       "1            0"
      ]
     },
     "execution_count": 1699,
     "metadata": {},
     "output_type": "execute_result"
    }
   ],
   "source": [
    "Season= flight_train['Season']\n",
    "Season= pd.get_dummies(Season, drop_first=True)\n",
    "Season.head(2)"
   ]
  },
  {
   "cell_type": "code",
   "execution_count": 1700,
   "metadata": {},
   "outputs": [
    {
     "data": {
      "text/html": [
       "<div>\n",
       "<style scoped>\n",
       "    .dataframe tbody tr th:only-of-type {\n",
       "        vertical-align: middle;\n",
       "    }\n",
       "\n",
       "    .dataframe tbody tr th {\n",
       "        vertical-align: top;\n",
       "    }\n",
       "\n",
       "    .dataframe thead th {\n",
       "        text-align: right;\n",
       "    }\n",
       "</style>\n",
       "<table border=\"1\" class=\"dataframe\">\n",
       "  <thead>\n",
       "    <tr style=\"text-align: right;\">\n",
       "      <th></th>\n",
       "      <th>Peak Hours</th>\n",
       "    </tr>\n",
       "  </thead>\n",
       "  <tbody>\n",
       "    <tr>\n",
       "      <th>0</th>\n",
       "      <td>0</td>\n",
       "    </tr>\n",
       "    <tr>\n",
       "      <th>1</th>\n",
       "      <td>0</td>\n",
       "    </tr>\n",
       "  </tbody>\n",
       "</table>\n",
       "</div>"
      ],
      "text/plain": [
       "   Peak Hours\n",
       "0           0\n",
       "1           0"
      ]
     },
     "execution_count": 1700,
     "metadata": {},
     "output_type": "execute_result"
    }
   ],
   "source": [
    "daytime = flight_train['Daytime']\n",
    "daytime = pd.get_dummies(daytime , drop_first=True)\n",
    "daytime.head(2)"
   ]
  },
  {
   "cell_type": "code",
   "execution_count": 1701,
   "metadata": {},
   "outputs": [
    {
     "data": {
      "text/plain": [
       "INR    24000\n",
       "Name: currencyCode, dtype: int64"
      ]
     },
     "execution_count": 1701,
     "metadata": {},
     "output_type": "execute_result"
    }
   ],
   "source": [
    "flight_train['currencyCode'].value_counts()\n",
    "# currencyCode gives no info\n",
    "# TripID gives no info"
   ]
  },
  {
   "cell_type": "code",
   "execution_count": 1702,
   "metadata": {},
   "outputs": [
    {
     "data": {
      "text/plain": [
       "Indigo      14733\n",
       "Vistara      6016\n",
       "SpiceJet     3251\n",
       "Name: airline, dtype: int64"
      ]
     },
     "execution_count": 1702,
     "metadata": {},
     "output_type": "execute_result"
    }
   ],
   "source": [
    "flight_train['airline'].value_counts()"
   ]
  },
  {
   "cell_type": "code",
   "execution_count": 1703,
   "metadata": {},
   "outputs": [
    {
     "data": {
      "text/html": [
       "<div>\n",
       "<style scoped>\n",
       "    .dataframe tbody tr th:only-of-type {\n",
       "        vertical-align: middle;\n",
       "    }\n",
       "\n",
       "    .dataframe tbody tr th {\n",
       "        vertical-align: top;\n",
       "    }\n",
       "\n",
       "    .dataframe thead th {\n",
       "        text-align: right;\n",
       "    }\n",
       "</style>\n",
       "<table border=\"1\" class=\"dataframe\">\n",
       "  <thead>\n",
       "    <tr style=\"text-align: right;\">\n",
       "      <th></th>\n",
       "      <th>SpiceJet</th>\n",
       "      <th>Vistara</th>\n",
       "    </tr>\n",
       "  </thead>\n",
       "  <tbody>\n",
       "    <tr>\n",
       "      <th>0</th>\n",
       "      <td>0</td>\n",
       "      <td>1</td>\n",
       "    </tr>\n",
       "    <tr>\n",
       "      <th>1</th>\n",
       "      <td>0</td>\n",
       "      <td>1</td>\n",
       "    </tr>\n",
       "    <tr>\n",
       "      <th>2</th>\n",
       "      <td>0</td>\n",
       "      <td>0</td>\n",
       "    </tr>\n",
       "    <tr>\n",
       "      <th>3</th>\n",
       "      <td>0</td>\n",
       "      <td>0</td>\n",
       "    </tr>\n",
       "    <tr>\n",
       "      <th>4</th>\n",
       "      <td>0</td>\n",
       "      <td>0</td>\n",
       "    </tr>\n",
       "  </tbody>\n",
       "</table>\n",
       "</div>"
      ],
      "text/plain": [
       "   SpiceJet  Vistara\n",
       "0         0        1\n",
       "1         0        1\n",
       "2         0        0\n",
       "3         0        0\n",
       "4         0        0"
      ]
     },
     "execution_count": 1703,
     "metadata": {},
     "output_type": "execute_result"
    }
   ],
   "source": [
    "airline = flight_train['airline']\n",
    "airline = pd.get_dummies(airline , drop_first=True)\n",
    "airline.head()"
   ]
  },
  {
   "cell_type": "code",
   "execution_count": 1704,
   "metadata": {},
   "outputs": [
    {
     "data": {
      "text/plain": [
       "Hyderabad (HYD-Rajiv Gandhi Intl.)          13496\n",
       "Mumbai (BOM-Chhatrapati Shivaji Intl.)       7095\n",
       "Bengaluru, India (BLR-Kempegowda Intl.)      2554\n",
       "Bengaluru (BLR-Kempegowda Intl.)              573\n",
       "Chennai (MAA-Chennai Intl.)                   282\n",
       "Name: departure_airport, dtype: int64"
      ]
     },
     "execution_count": 1704,
     "metadata": {},
     "output_type": "execute_result"
    }
   ],
   "source": [
    "flight_train['departure_airport'].value_counts()\n",
    "#same as departure"
   ]
  },
  {
   "cell_type": "code",
   "execution_count": 1705,
   "metadata": {},
   "outputs": [
    {
     "data": {
      "text/plain": [
       "Hyderabad    13496\n",
       "Mumbai        7095\n",
       "Bengaluru     3127\n",
       "Chennai        282\n",
       "Name: departure, dtype: int64"
      ]
     },
     "execution_count": 1705,
     "metadata": {},
     "output_type": "execute_result"
    }
   ],
   "source": [
    "flight_train['departure'].value_counts()"
   ]
  },
  {
   "cell_type": "code",
   "execution_count": 1706,
   "metadata": {},
   "outputs": [
    {
     "data": {
      "text/html": [
       "<div>\n",
       "<style scoped>\n",
       "    .dataframe tbody tr th:only-of-type {\n",
       "        vertical-align: middle;\n",
       "    }\n",
       "\n",
       "    .dataframe tbody tr th {\n",
       "        vertical-align: top;\n",
       "    }\n",
       "\n",
       "    .dataframe thead th {\n",
       "        text-align: right;\n",
       "    }\n",
       "</style>\n",
       "<table border=\"1\" class=\"dataframe\">\n",
       "  <thead>\n",
       "    <tr style=\"text-align: right;\">\n",
       "      <th></th>\n",
       "      <th>departure_Chennai</th>\n",
       "      <th>departure_Hyderabad</th>\n",
       "      <th>departure_Mumbai</th>\n",
       "    </tr>\n",
       "  </thead>\n",
       "  <tbody>\n",
       "    <tr>\n",
       "      <th>0</th>\n",
       "      <td>0</td>\n",
       "      <td>0</td>\n",
       "      <td>0</td>\n",
       "    </tr>\n",
       "    <tr>\n",
       "      <th>1</th>\n",
       "      <td>0</td>\n",
       "      <td>1</td>\n",
       "      <td>0</td>\n",
       "    </tr>\n",
       "    <tr>\n",
       "      <th>2</th>\n",
       "      <td>0</td>\n",
       "      <td>1</td>\n",
       "      <td>0</td>\n",
       "    </tr>\n",
       "    <tr>\n",
       "      <th>3</th>\n",
       "      <td>0</td>\n",
       "      <td>1</td>\n",
       "      <td>0</td>\n",
       "    </tr>\n",
       "    <tr>\n",
       "      <th>4</th>\n",
       "      <td>0</td>\n",
       "      <td>0</td>\n",
       "      <td>0</td>\n",
       "    </tr>\n",
       "  </tbody>\n",
       "</table>\n",
       "</div>"
      ],
      "text/plain": [
       "   departure_Chennai  departure_Hyderabad  departure_Mumbai\n",
       "0                  0                    0                 0\n",
       "1                  0                    1                 0\n",
       "2                  0                    1                 0\n",
       "3                  0                    1                 0\n",
       "4                  0                    0                 0"
      ]
     },
     "execution_count": 1706,
     "metadata": {},
     "output_type": "execute_result"
    }
   ],
   "source": [
    "departure = flight_train[['departure']]\n",
    "\n",
    "departure = pd.get_dummies(departure , drop_first=True)\n",
    "departure.head()"
   ]
  },
  {
   "cell_type": "code",
   "execution_count": 1707,
   "metadata": {},
   "outputs": [
    {
     "data": {
      "text/plain": [
       "Tirupati (TIR)                                     3428\n",
       "Kolkata (CCU-Netaji Subhash Chandra Bose Intl.)    3230\n",
       "Chennai (MAA-Chennai Intl.)                        2637\n",
       "Mumbai (BOM-Chhatrapati Shivaji Intl.)             1800\n",
       "Hyderabad (HYD-Rajiv Gandhi Intl.)                 1572\n",
       "Delhi (DEL-Indira Gandhi Intl.)                    1555\n",
       "Varanasi (VNS-Babatpur)                            1500\n",
       "Ahmedabad (AMD-Sardar Vallabhbhai Patel Intl.)     1181\n",
       "Bhubaneshwar (BBI-Biju Patnaik)                    1115\n",
       "Amritsar (ATQ-Raja Sansi Intl.)                    1072\n",
       "Bengaluru, India (BLR-Kempegowda Intl.)            1006\n",
       "Pune (PNQ-Lohegaon)                                 681\n",
       "Indore (IDR-Devi Ahilyabai Holkar Intl.)            585\n",
       "Goa (GOI-Dabolim)                                   504\n",
       "Jaipur (JAI-Sanganer)                               471\n",
       "Coimbatore (CJB)                                    461\n",
       "Vijayawada (VGA)                                    400\n",
       "Bengaluru (BLR-Kempegowda Intl.)                    291\n",
       "Mangalore (IXE-Mangalore Intl.)                     282\n",
       "Bhopal (BHO)                                        127\n",
       "Rajahmundry (RJA)                                   102\n",
       "Name: arrival_airport, dtype: int64"
      ]
     },
     "execution_count": 1707,
     "metadata": {},
     "output_type": "execute_result"
    }
   ],
   "source": [
    "flight_train['arrival_airport'].value_counts()\n",
    "# same as arrival"
   ]
  },
  {
   "cell_type": "code",
   "execution_count": 1708,
   "metadata": {},
   "outputs": [
    {
     "data": {
      "text/plain": [
       "Tirupati        3428\n",
       "Kolkata         3230\n",
       "Chennai         2637\n",
       "Mumbai          1800\n",
       "Hyderabad       1572\n",
       "Delhi           1555\n",
       "Varanasi        1500\n",
       "Bengaluru       1297\n",
       "Ahmedabad       1181\n",
       "Bhubaneshwar    1115\n",
       "Amritsar        1072\n",
       "Pune             681\n",
       "Indore           585\n",
       "Goa              504\n",
       "Jaipur           471\n",
       "Coimbatore       461\n",
       "Vijayawada       400\n",
       "Mangalore        282\n",
       "Bhopal           127\n",
       "Rajahmundry      102\n",
       "Name: arrival, dtype: int64"
      ]
     },
     "execution_count": 1708,
     "metadata": {},
     "output_type": "execute_result"
    }
   ],
   "source": [
    "flight_train['arrival'].value_counts()"
   ]
  },
  {
   "cell_type": "code",
   "execution_count": 1709,
   "metadata": {},
   "outputs": [
    {
     "data": {
      "text/html": [
       "<div>\n",
       "<style scoped>\n",
       "    .dataframe tbody tr th:only-of-type {\n",
       "        vertical-align: middle;\n",
       "    }\n",
       "\n",
       "    .dataframe tbody tr th {\n",
       "        vertical-align: top;\n",
       "    }\n",
       "\n",
       "    .dataframe thead th {\n",
       "        text-align: right;\n",
       "    }\n",
       "</style>\n",
       "<table border=\"1\" class=\"dataframe\">\n",
       "  <thead>\n",
       "    <tr style=\"text-align: right;\">\n",
       "      <th></th>\n",
       "      <th>arrival_Amritsar</th>\n",
       "      <th>arrival_Bengaluru</th>\n",
       "      <th>arrival_Bhopal</th>\n",
       "      <th>arrival_Bhubaneshwar</th>\n",
       "      <th>arrival_Chennai</th>\n",
       "      <th>arrival_Coimbatore</th>\n",
       "      <th>arrival_Delhi</th>\n",
       "      <th>arrival_Goa</th>\n",
       "      <th>arrival_Hyderabad</th>\n",
       "      <th>arrival_Indore</th>\n",
       "      <th>arrival_Jaipur</th>\n",
       "      <th>arrival_Kolkata</th>\n",
       "      <th>arrival_Mangalore</th>\n",
       "      <th>arrival_Mumbai</th>\n",
       "      <th>arrival_Pune</th>\n",
       "      <th>arrival_Rajahmundry</th>\n",
       "      <th>arrival_Tirupati</th>\n",
       "      <th>arrival_Varanasi</th>\n",
       "      <th>arrival_Vijayawada</th>\n",
       "    </tr>\n",
       "  </thead>\n",
       "  <tbody>\n",
       "    <tr>\n",
       "      <th>0</th>\n",
       "      <td>0</td>\n",
       "      <td>0</td>\n",
       "      <td>0</td>\n",
       "      <td>0</td>\n",
       "      <td>0</td>\n",
       "      <td>0</td>\n",
       "      <td>1</td>\n",
       "      <td>0</td>\n",
       "      <td>0</td>\n",
       "      <td>0</td>\n",
       "      <td>0</td>\n",
       "      <td>0</td>\n",
       "      <td>0</td>\n",
       "      <td>0</td>\n",
       "      <td>0</td>\n",
       "      <td>0</td>\n",
       "      <td>0</td>\n",
       "      <td>0</td>\n",
       "      <td>0</td>\n",
       "    </tr>\n",
       "    <tr>\n",
       "      <th>1</th>\n",
       "      <td>0</td>\n",
       "      <td>0</td>\n",
       "      <td>0</td>\n",
       "      <td>0</td>\n",
       "      <td>0</td>\n",
       "      <td>0</td>\n",
       "      <td>0</td>\n",
       "      <td>0</td>\n",
       "      <td>0</td>\n",
       "      <td>0</td>\n",
       "      <td>0</td>\n",
       "      <td>0</td>\n",
       "      <td>0</td>\n",
       "      <td>0</td>\n",
       "      <td>1</td>\n",
       "      <td>0</td>\n",
       "      <td>0</td>\n",
       "      <td>0</td>\n",
       "      <td>0</td>\n",
       "    </tr>\n",
       "    <tr>\n",
       "      <th>2</th>\n",
       "      <td>0</td>\n",
       "      <td>0</td>\n",
       "      <td>0</td>\n",
       "      <td>0</td>\n",
       "      <td>1</td>\n",
       "      <td>0</td>\n",
       "      <td>0</td>\n",
       "      <td>0</td>\n",
       "      <td>0</td>\n",
       "      <td>0</td>\n",
       "      <td>0</td>\n",
       "      <td>0</td>\n",
       "      <td>0</td>\n",
       "      <td>0</td>\n",
       "      <td>0</td>\n",
       "      <td>0</td>\n",
       "      <td>0</td>\n",
       "      <td>0</td>\n",
       "      <td>0</td>\n",
       "    </tr>\n",
       "    <tr>\n",
       "      <th>3</th>\n",
       "      <td>0</td>\n",
       "      <td>0</td>\n",
       "      <td>0</td>\n",
       "      <td>0</td>\n",
       "      <td>0</td>\n",
       "      <td>0</td>\n",
       "      <td>0</td>\n",
       "      <td>1</td>\n",
       "      <td>0</td>\n",
       "      <td>0</td>\n",
       "      <td>0</td>\n",
       "      <td>0</td>\n",
       "      <td>0</td>\n",
       "      <td>0</td>\n",
       "      <td>0</td>\n",
       "      <td>0</td>\n",
       "      <td>0</td>\n",
       "      <td>0</td>\n",
       "      <td>0</td>\n",
       "    </tr>\n",
       "    <tr>\n",
       "      <th>4</th>\n",
       "      <td>0</td>\n",
       "      <td>0</td>\n",
       "      <td>0</td>\n",
       "      <td>0</td>\n",
       "      <td>0</td>\n",
       "      <td>0</td>\n",
       "      <td>0</td>\n",
       "      <td>0</td>\n",
       "      <td>1</td>\n",
       "      <td>0</td>\n",
       "      <td>0</td>\n",
       "      <td>0</td>\n",
       "      <td>0</td>\n",
       "      <td>0</td>\n",
       "      <td>0</td>\n",
       "      <td>0</td>\n",
       "      <td>0</td>\n",
       "      <td>0</td>\n",
       "      <td>0</td>\n",
       "    </tr>\n",
       "  </tbody>\n",
       "</table>\n",
       "</div>"
      ],
      "text/plain": [
       "   arrival_Amritsar  arrival_Bengaluru  arrival_Bhopal  arrival_Bhubaneshwar  \\\n",
       "0                 0                  0               0                     0   \n",
       "1                 0                  0               0                     0   \n",
       "2                 0                  0               0                     0   \n",
       "3                 0                  0               0                     0   \n",
       "4                 0                  0               0                     0   \n",
       "\n",
       "   arrival_Chennai  arrival_Coimbatore  arrival_Delhi  arrival_Goa  \\\n",
       "0                0                   0              1            0   \n",
       "1                0                   0              0            0   \n",
       "2                1                   0              0            0   \n",
       "3                0                   0              0            1   \n",
       "4                0                   0              0            0   \n",
       "\n",
       "   arrival_Hyderabad  arrival_Indore  arrival_Jaipur  arrival_Kolkata  \\\n",
       "0                  0               0               0                0   \n",
       "1                  0               0               0                0   \n",
       "2                  0               0               0                0   \n",
       "3                  0               0               0                0   \n",
       "4                  1               0               0                0   \n",
       "\n",
       "   arrival_Mangalore  arrival_Mumbai  arrival_Pune  arrival_Rajahmundry  \\\n",
       "0                  0               0             0                    0   \n",
       "1                  0               0             1                    0   \n",
       "2                  0               0             0                    0   \n",
       "3                  0               0             0                    0   \n",
       "4                  0               0             0                    0   \n",
       "\n",
       "   arrival_Tirupati  arrival_Varanasi  arrival_Vijayawada  \n",
       "0                 0                 0                   0  \n",
       "1                 0                 0                   0  \n",
       "2                 0                 0                   0  \n",
       "3                 0                 0                   0  \n",
       "4                 0                 0                   0  "
      ]
     },
     "execution_count": 1709,
     "metadata": {},
     "output_type": "execute_result"
    }
   ],
   "source": [
    "arrival = flight_train[['arrival']]\n",
    "\n",
    "arrival = pd.get_dummies(arrival , drop_first=True)\n",
    "arrival.head()"
   ]
  },
  {
   "cell_type": "code",
   "execution_count": 1710,
   "metadata": {},
   "outputs": [],
   "source": [
    "y= flight_train.ticketprice"
   ]
  },
  {
   "cell_type": "code",
   "execution_count": 1711,
   "metadata": {},
   "outputs": [
    {
     "data": {
      "text/plain": [
       "count     24000.000000\n",
       "mean      10493.615167\n",
       "std        9643.537856\n",
       "min        1810.000000\n",
       "25%        5112.000000\n",
       "50%        7397.000000\n",
       "75%       12562.000000\n",
       "max      129732.000000\n",
       "Name: ticketprice, dtype: float64"
      ]
     },
     "execution_count": 1711,
     "metadata": {},
     "output_type": "execute_result"
    }
   ],
   "source": [
    "flight_train.ticketprice.describe()"
   ]
  },
  {
   "cell_type": "code",
   "execution_count": 1712,
   "metadata": {},
   "outputs": [
    {
     "data": {
      "text/plain": [
       "count    24000.000000\n",
       "mean       448.192917\n",
       "std        407.048516\n",
       "min         60.000000\n",
       "25%        170.000000\n",
       "50%        335.000000\n",
       "75%        520.000000\n",
       "max       3225.000000\n",
       "Name: mins_of_journey, dtype: float64"
      ]
     },
     "execution_count": 1712,
     "metadata": {},
     "output_type": "execute_result"
    }
   ],
   "source": [
    "flight_train.mins_of_journey.describe()"
   ]
  },
  {
   "cell_type": "markdown",
   "metadata": {},
   "source": [
    "### Post-processing Visualizations"
   ]
  },
  {
   "cell_type": "code",
   "execution_count": 1713,
   "metadata": {},
   "outputs": [
    {
     "data": {
      "image/png": "[encoded data removed]",
      "text/plain": [
       "<Figure size 400x400 with 1 Axes>"
      ]
     },
     "metadata": {},
     "output_type": "display_data"
    }
   ],
   "source": [
    "# Scatter pLot- Duration of the journey v/s Ticketprcie\n",
    "plt.figure(figsize=(4,4))\n",
    "plt.scatter(flight_train.mins_of_journey, flight_train[\"ticketprice\"], color='orange', alpha=1/5)\n",
    "plt.title('Duration v/s Ticket Price',fontsize=17, weight=\"bold\")\n",
    "plt.xlabel('Duration',fontsize=12, weight=\"bold\")\n",
    "plt.ylabel('ticketprice',fontsize=12, weight=\"bold\")\n",
    "plt.xticks(rotation=0,fontsize=8)\n",
    "plt.yticks(fontsize=8)\n",
    "plt.show(True)"
   ]
  },
  {
   "cell_type": "code",
   "execution_count": 1714,
   "metadata": {},
   "outputs": [
    {
     "data": {
      "image/png": "[encoded data removed]",
      "text/plain": [
       "<Figure size 1800x600 with 1 Axes>"
      ]
     },
     "metadata": {},
     "output_type": "display_data"
    }
   ],
   "source": [
    "# Journey_WeekDay v/s ticketprice \n",
    "sns.catplot(y='ticketprice' , x='Journey_WeekDay' ,\n",
    "            data = flight_train.sort_values('ticketprice',ascending=False) ,\n",
    "            kind='boxen' , height=6 , aspect=3)\n",
    "plt.title('Distribution of pricing on different days of the week',fontsize=15, weight=\"bold\")\n",
    "plt.show(True)"
   ]
  },
  {
   "cell_type": "code",
   "execution_count": 1715,
   "metadata": {},
   "outputs": [
    {
     "data": {
      "image/png": "[encoded data removed]",
      "text/plain": [
       "<Figure size 1800x600 with 1 Axes>"
      ]
     },
     "metadata": {},
     "output_type": "display_data"
    }
   ],
   "source": [
    "# No_of_stops v/s ticketprice\n",
    "sns.catplot(y='ticketprice' , x='No_of_stops' ,\n",
    "            data = flight_train.sort_values('ticketprice',ascending=False) ,\n",
    "            kind='boxen' , height=6 , aspect=3)\n",
    "plt.title('Distribution of pricing wrt No_of_stops',fontsize=15, weight=\"bold\")\n",
    "plt.show(True)"
   ]
  },
  {
   "cell_type": "code",
   "execution_count": 1716,
   "metadata": {},
   "outputs": [
    {
     "data": {
      "image/png": "[encoded data removed]",
      "text/plain": [
       "<Figure size 400x400 with 1 Axes>"
      ]
     },
     "metadata": {},
     "output_type": "display_data"
    }
   ],
   "source": [
    "# Scatter pLot- prrior_booking_days v/s Ticketprcie\n",
    "plt.figure(figsize=(4,4))\n",
    "plt.scatter(flight_train.prrior_booking_days, flight_train[\"ticketprice\"], color='orange', alpha=1/5)\n",
    "plt.title('prrior_booking_days v/s Ticket Price',fontsize=17, weight=\"bold\")\n",
    "plt.xlabel('prior booking days',fontsize=12, weight=\"bold\")\n",
    "plt.ylabel('ticketprice',fontsize=12, weight=\"bold\")\n",
    "plt.xticks(rotation=0,fontsize=8)\n",
    "plt.yticks(fontsize=8)\n",
    "plt.show(True)"
   ]
  },
  {
   "cell_type": "markdown",
   "metadata": {},
   "source": [
    "##### Dropping unwanted columns and checking head of data that will be used for modelling"
   ]
  },
  {
   "cell_type": "code",
   "execution_count": 1717,
   "metadata": {},
   "outputs": [
    {
     "data": {
      "text/plain": [
       "Index(['TripID', 'departure', 'arrival', 'airline', 'planecode', 'plane',\n",
       "       'Bookingdate', 'currencyCode', 'departure_airport', 'arrival_airport',\n",
       "       'arrival_date_time', 'Route', 'ticketprice', 'Journey_Day',\n",
       "       'Journey_WeekDay', 'Journey_Month', 'Dep_hour', 'Dep_Minute',\n",
       "       'Arrival_hour', 'Arrival_Minute', 'booking_day', 'Bookingdate_hour',\n",
       "       'Season', 'Daytime', 'mins_of_journey', 'prrior_booking_days',\n",
       "       'No_of_stops'],\n",
       "      dtype='object')"
      ]
     },
     "execution_count": 1717,
     "metadata": {},
     "output_type": "execute_result"
    }
   ],
   "source": [
    "flight_train.columns"
   ]
  },
  {
   "cell_type": "code",
   "execution_count": 1718,
   "metadata": {},
   "outputs": [],
   "source": [
    "# Dropping unwanted columns, that do not add much information\n",
    "flight_train.drop(columns=['TripID','ticketprice', 'plane', 'Bookingdate', 'currencyCode', 'departure_airport', 'arrival_airport',\n",
    "       'arrival_date_time','Route', 'Dep_hour', 'Dep_Minute', 'Arrival_hour',\n",
    "       'Arrival_Minute' ],inplace=True)"
   ]
  },
  {
   "cell_type": "code",
   "execution_count": 1719,
   "metadata": {},
   "outputs": [],
   "source": [
    "# Adding dummified columns to the test dataset\n",
    "flight_train = pd.concat( [flight_train , airline ,departure , arrival, daytime, Season] , axis=1)"
   ]
  },
  {
   "cell_type": "code",
   "execution_count": 1720,
   "metadata": {},
   "outputs": [
    {
     "data": {
      "text/html": [
       "<div>\n",
       "<style scoped>\n",
       "    .dataframe tbody tr th:only-of-type {\n",
       "        vertical-align: middle;\n",
       "    }\n",
       "\n",
       "    .dataframe tbody tr th {\n",
       "        vertical-align: top;\n",
       "    }\n",
       "\n",
       "    .dataframe thead th {\n",
       "        text-align: right;\n",
       "    }\n",
       "</style>\n",
       "<table border=\"1\" class=\"dataframe\">\n",
       "  <thead>\n",
       "    <tr style=\"text-align: right;\">\n",
       "      <th></th>\n",
       "      <th>Journey_Day</th>\n",
       "      <th>Journey_WeekDay</th>\n",
       "      <th>Journey_Month</th>\n",
       "      <th>booking_day</th>\n",
       "      <th>mins_of_journey</th>\n",
       "      <th>prrior_booking_days</th>\n",
       "      <th>No_of_stops</th>\n",
       "      <th>SpiceJet</th>\n",
       "      <th>Vistara</th>\n",
       "      <th>departure_Chennai</th>\n",
       "      <th>departure_Hyderabad</th>\n",
       "      <th>departure_Mumbai</th>\n",
       "      <th>arrival_Amritsar</th>\n",
       "      <th>arrival_Bengaluru</th>\n",
       "      <th>arrival_Bhopal</th>\n",
       "      <th>arrival_Bhubaneshwar</th>\n",
       "      <th>arrival_Chennai</th>\n",
       "      <th>arrival_Coimbatore</th>\n",
       "      <th>arrival_Delhi</th>\n",
       "      <th>arrival_Goa</th>\n",
       "      <th>arrival_Hyderabad</th>\n",
       "      <th>arrival_Indore</th>\n",
       "      <th>arrival_Jaipur</th>\n",
       "      <th>arrival_Kolkata</th>\n",
       "      <th>arrival_Mangalore</th>\n",
       "      <th>arrival_Mumbai</th>\n",
       "      <th>arrival_Pune</th>\n",
       "      <th>arrival_Rajahmundry</th>\n",
       "      <th>arrival_Tirupati</th>\n",
       "      <th>arrival_Varanasi</th>\n",
       "      <th>arrival_Vijayawada</th>\n",
       "      <th>Peak Hours</th>\n",
       "      <th>Peak Season</th>\n",
       "    </tr>\n",
       "  </thead>\n",
       "  <tbody>\n",
       "    <tr>\n",
       "      <th>0</th>\n",
       "      <td>24</td>\n",
       "      <td>2</td>\n",
       "      <td>5</td>\n",
       "      <td>1</td>\n",
       "      <td>450.0</td>\n",
       "      <td>0</td>\n",
       "      <td>1</td>\n",
       "      <td>0</td>\n",
       "      <td>1</td>\n",
       "      <td>0</td>\n",
       "      <td>0</td>\n",
       "      <td>0</td>\n",
       "      <td>0</td>\n",
       "      <td>0</td>\n",
       "      <td>0</td>\n",
       "      <td>0</td>\n",
       "      <td>0</td>\n",
       "      <td>0</td>\n",
       "      <td>1</td>\n",
       "      <td>0</td>\n",
       "      <td>0</td>\n",
       "      <td>0</td>\n",
       "      <td>0</td>\n",
       "      <td>0</td>\n",
       "      <td>0</td>\n",
       "      <td>0</td>\n",
       "      <td>0</td>\n",
       "      <td>0</td>\n",
       "      <td>0</td>\n",
       "      <td>0</td>\n",
       "      <td>0</td>\n",
       "      <td>0</td>\n",
       "      <td>0</td>\n",
       "    </tr>\n",
       "    <tr>\n",
       "      <th>1</th>\n",
       "      <td>1</td>\n",
       "      <td>3</td>\n",
       "      <td>6</td>\n",
       "      <td>6</td>\n",
       "      <td>1150.0</td>\n",
       "      <td>3</td>\n",
       "      <td>1</td>\n",
       "      <td>0</td>\n",
       "      <td>1</td>\n",
       "      <td>0</td>\n",
       "      <td>1</td>\n",
       "      <td>0</td>\n",
       "      <td>0</td>\n",
       "      <td>0</td>\n",
       "      <td>0</td>\n",
       "      <td>0</td>\n",
       "      <td>0</td>\n",
       "      <td>0</td>\n",
       "      <td>0</td>\n",
       "      <td>0</td>\n",
       "      <td>0</td>\n",
       "      <td>0</td>\n",
       "      <td>0</td>\n",
       "      <td>0</td>\n",
       "      <td>0</td>\n",
       "      <td>0</td>\n",
       "      <td>1</td>\n",
       "      <td>0</td>\n",
       "      <td>0</td>\n",
       "      <td>0</td>\n",
       "      <td>0</td>\n",
       "      <td>0</td>\n",
       "      <td>0</td>\n",
       "    </tr>\n",
       "  </tbody>\n",
       "</table>\n",
       "</div>"
      ],
      "text/plain": [
       "   Journey_Day  Journey_WeekDay  Journey_Month  booking_day  mins_of_journey  \\\n",
       "0           24                2              5            1            450.0   \n",
       "1            1                3              6            6           1150.0   \n",
       "\n",
       "   prrior_booking_days  No_of_stops  SpiceJet  Vistara  departure_Chennai  \\\n",
       "0                    0            1         0        1                  0   \n",
       "1                    3            1         0        1                  0   \n",
       "\n",
       "   departure_Hyderabad  departure_Mumbai  arrival_Amritsar  arrival_Bengaluru  \\\n",
       "0                    0                 0                 0                  0   \n",
       "1                    1                 0                 0                  0   \n",
       "\n",
       "   arrival_Bhopal  arrival_Bhubaneshwar  arrival_Chennai  arrival_Coimbatore  \\\n",
       "0               0                     0                0                   0   \n",
       "1               0                     0                0                   0   \n",
       "\n",
       "   arrival_Delhi  arrival_Goa  arrival_Hyderabad  arrival_Indore  \\\n",
       "0              1            0                  0               0   \n",
       "1              0            0                  0               0   \n",
       "\n",
       "   arrival_Jaipur  arrival_Kolkata  arrival_Mangalore  arrival_Mumbai  \\\n",
       "0               0                0                  0               0   \n",
       "1               0                0                  0               0   \n",
       "\n",
       "   arrival_Pune  arrival_Rajahmundry  arrival_Tirupati  arrival_Varanasi  \\\n",
       "0             0                    0                 0                 0   \n",
       "1             1                    0                 0                 0   \n",
       "\n",
       "   arrival_Vijayawada  Peak Hours  Peak Season  \n",
       "0                   0           0            0  \n",
       "1                   0           0            0  "
      ]
     },
     "execution_count": 1720,
     "metadata": {},
     "output_type": "execute_result"
    }
   ],
   "source": [
    "# Dropping the categorical columns which were dummified\n",
    "flight_train.drop(columns=['departure', 'arrival', 'airline', 'planecode','Bookingdate_hour','Daytime','Season'],inplace=True)\n",
    "\n",
    "# Finally checking the test dataframe\n",
    "flight_train.head(2)"
   ]
  },
  {
   "cell_type": "code",
   "execution_count": 1721,
   "metadata": {},
   "outputs": [
    {
     "data": {
      "text/plain": [
       "(24000, 33)"
      ]
     },
     "execution_count": 1721,
     "metadata": {},
     "output_type": "execute_result"
    }
   ],
   "source": [
    "flight_train.shape"
   ]
  },
  {
   "cell_type": "markdown",
   "metadata": {},
   "source": [
    "## Pre-processing: Test data"
   ]
  },
  {
   "cell_type": "code",
   "execution_count": 1722,
   "metadata": {},
   "outputs": [],
   "source": [
    "# 1. adding columns: day of the month of the journey, month of journey, day of week of the journey,\n",
    "# the departure and arrival time\n",
    "\n",
    "flight_test['Journey_Day'] = pd.to_datetime(flight_test.departure_date_time , format = '%d/%m/%Y %H:%M').dt.day\n",
    "flight_test['Journey_WeekDay'] = pd.to_datetime(flight_test.departure_date_time , format = '%d/%m/%Y %H:%M').dt.weekday\n",
    "flight_test['Journey_Month'] = pd.to_datetime(flight_test.departure_date_time , format = '%d/%m/%Y %H:%M').dt.month\n",
    "flight_test['Depature_Time'] = pd.to_datetime(flight_test.departure_date_time , format = '%d/%m/%Y %H:%M').dt.time\n",
    "flight_test['Arrival_Time'] = pd.to_datetime(flight_test.arrival_date_time , format = '%d/%m/%Y %H:%M').dt.time"
   ]
  },
  {
   "cell_type": "code",
   "execution_count": 1723,
   "metadata": {},
   "outputs": [],
   "source": [
    "# 2. Creating columns: day of week of booking, hour of booking\n",
    "flight_test['booking_day'] =pd.to_datetime(flight_test.Bookingdate , format = \"%d%B%Y-%H:%M:%S\").dt.weekday\n",
    "flight_test['Bookingdate_hour'] =pd.to_datetime(flight_test.Bookingdate , format = \"%d%B%Y-%H:%M:%S\").dt.hour"
   ]
  },
  {
   "cell_type": "code",
   "execution_count": 1724,
   "metadata": {},
   "outputs": [],
   "source": [
    "# 3. Creating column: if the booking was done in Peak season or not and peak hours or not\n",
    "\n",
    "flight_test['Season']=flight_test['Journey_Month'].apply(season)\n",
    "flight_test['Daytime']=flight_test['Bookingdate_hour'].apply(get_day_period)"
   ]
  },
  {
   "cell_type": "code",
   "execution_count": 1725,
   "metadata": {},
   "outputs": [],
   "source": [
    "# 4. Finding duration of a flight in minutes, and adding it as a new column\n",
    "\n",
    "from datetime import datetime\n",
    "a=[]\n",
    "b=[]\n",
    "c=[]\n",
    "mins=[]\n",
    "for d in flight_test.departure_date_time:\n",
    "    date1 = (datetime.strptime(d, \"%d/%m/%Y %H:%M\"))\n",
    "    a.append(date1)\n",
    "for d in flight_test.arrival_date_time:\n",
    "    date2 = datetime.strptime(d, \"%d/%m/%Y %H:%M\")\n",
    "    b.append(date2)\n",
    "for i in range(len(flight_test.arrival_date_time)):\n",
    "    difference= b[i]-a[i]\n",
    "    c.append(difference)\n",
    "    minutes =(b[i]-a[i]).total_seconds() / 60\n",
    "    mins.append(minutes)\n",
    "    \n",
    "flight_test['mins_of_journey']= mins    "
   ]
  },
  {
   "cell_type": "code",
   "execution_count": 1726,
   "metadata": {},
   "outputs": [],
   "source": [
    "# 5. Creating a column to find how many days before the flight was the ticket booked\n",
    "\n",
    "flight_test.departure_date_time =pd.to_datetime(flight_test.departure_date_time , format = '%d/%m/%Y %H:%M')\n",
    "flight_test['Bookingdate'] =pd.to_datetime(flight_test.Bookingdate , format = \"%d%B%Y-%H:%M:%S\")\n",
    "flight_test['prrior_booking_days'] = (flight_test['departure_date_time']-flight_test['Bookingdate']  ).dt.days\n"
   ]
  },
  {
   "cell_type": "code",
   "execution_count": 1727,
   "metadata": {},
   "outputs": [],
   "source": [
    "# 6. If the flight was direct or a connecting flight; to get the number of stops in each flight_test journey\n",
    "\n",
    "stops=[]    \n",
    "for i in range(len(flight_test.Route)):\n",
    "    #test_str= flight_test.Route[i]\n",
    "    counter= flight_test.Route[i].count('-')\n",
    "    stops.append(counter-1)\n",
    "\n",
    "flight_test['No_of_stops']= stops"
   ]
  },
  {
   "cell_type": "code",
   "execution_count": 1728,
   "metadata": {},
   "outputs": [],
   "source": [
    "# 7. Dummifying categorical columns\n",
    "\n",
    "planecode = flight_test['planecode']\n",
    "planecode = pd.get_dummies(planecode , drop_first=True)\n",
    "\n",
    "Season= flight_test['Season']\n",
    "Season= pd.get_dummies(Season, drop_first=True)\n",
    "\n",
    "daytime = flight_test['Daytime']\n",
    "daytime = pd.get_dummies(daytime , drop_first=True)\n",
    "\n",
    "airline = flight_test['airline']\n",
    "airline = pd.get_dummies(airline , drop_first=True)\n",
    "\n",
    "departure = flight_test[['departure']]\n",
    "departure = pd.get_dummies(departure , drop_first=True)\n",
    "\n",
    "arrival = flight_test[['arrival']]\n",
    "arrival = pd.get_dummies(arrival , drop_first=True)"
   ]
  },
  {
   "cell_type": "code",
   "execution_count": 1729,
   "metadata": {},
   "outputs": [
    {
     "data": {
      "text/plain": [
       "Index(['TripID', 'departure', 'arrival', 'airline', 'planecode', 'plane',\n",
       "       'Bookingdate', 'currencyCode', 'departure_airport',\n",
       "       'departure_date_time', 'arrival_airport', 'arrival_date_time', 'Route',\n",
       "       'Journey_Day', 'Journey_WeekDay', 'Journey_Month', 'Depature_Time',\n",
       "       'Arrival_Time', 'booking_day', 'Bookingdate_hour', 'Season', 'Daytime',\n",
       "       'mins_of_journey', 'prrior_booking_days', 'No_of_stops'],\n",
       "      dtype='object')"
      ]
     },
     "execution_count": 1729,
     "metadata": {},
     "output_type": "execute_result"
    }
   ],
   "source": [
    "flight_test.columns"
   ]
  },
  {
   "cell_type": "code",
   "execution_count": 1730,
   "metadata": {},
   "outputs": [],
   "source": [
    "# Dropping unwanted columns, that do not add much information\n",
    "flight_test.drop(columns=['TripID', 'plane', 'Depature_Time' , 'departure_date_time','Arrival_Time','Bookingdate',\n",
    "                          'currencyCode', 'departure_airport', 'arrival_airport','arrival_date_time','Route' ],\n",
    "                 inplace=True)"
   ]
  },
  {
   "cell_type": "code",
   "execution_count": 1731,
   "metadata": {},
   "outputs": [],
   "source": [
    "# Adding dummified columns to the test dataset\n",
    "flight_test = pd.concat( [flight_test , airline ,departure , arrival, daytime, Season] , axis=1)"
   ]
  },
  {
   "cell_type": "code",
   "execution_count": 1732,
   "metadata": {},
   "outputs": [],
   "source": [
    "# Dropping the categorical columns which were dummified\n",
    "flight_test.drop(columns=['departure', 'arrival', 'airline', 'planecode','Bookingdate_hour','Daytime','Season'],inplace=True)"
   ]
  },
  {
   "cell_type": "code",
   "execution_count": 1733,
   "metadata": {},
   "outputs": [
    {
     "data": {
      "text/html": [
       "<div>\n",
       "<style scoped>\n",
       "    .dataframe tbody tr th:only-of-type {\n",
       "        vertical-align: middle;\n",
       "    }\n",
       "\n",
       "    .dataframe tbody tr th {\n",
       "        vertical-align: top;\n",
       "    }\n",
       "\n",
       "    .dataframe thead th {\n",
       "        text-align: right;\n",
       "    }\n",
       "</style>\n",
       "<table border=\"1\" class=\"dataframe\">\n",
       "  <thead>\n",
       "    <tr style=\"text-align: right;\">\n",
       "      <th></th>\n",
       "      <th>Journey_Day</th>\n",
       "      <th>Journey_WeekDay</th>\n",
       "      <th>Journey_Month</th>\n",
       "      <th>booking_day</th>\n",
       "      <th>mins_of_journey</th>\n",
       "      <th>prrior_booking_days</th>\n",
       "      <th>No_of_stops</th>\n",
       "      <th>SpiceJet</th>\n",
       "      <th>Vistara</th>\n",
       "      <th>departure_Chennai</th>\n",
       "      <th>departure_Hyderabad</th>\n",
       "      <th>departure_Mumbai</th>\n",
       "      <th>arrival_Amritsar</th>\n",
       "      <th>arrival_Bengaluru</th>\n",
       "      <th>arrival_Bhopal</th>\n",
       "      <th>arrival_Bhubaneshwar</th>\n",
       "      <th>arrival_Chennai</th>\n",
       "      <th>arrival_Coimbatore</th>\n",
       "      <th>arrival_Delhi</th>\n",
       "      <th>arrival_Goa</th>\n",
       "      <th>arrival_Hyderabad</th>\n",
       "      <th>arrival_Indore</th>\n",
       "      <th>arrival_Jaipur</th>\n",
       "      <th>arrival_Kolkata</th>\n",
       "      <th>arrival_Mangalore</th>\n",
       "      <th>arrival_Mumbai</th>\n",
       "      <th>arrival_Pune</th>\n",
       "      <th>arrival_Rajahmundry</th>\n",
       "      <th>arrival_Tirupati</th>\n",
       "      <th>arrival_Varanasi</th>\n",
       "      <th>arrival_Vijayawada</th>\n",
       "      <th>Peak Hours</th>\n",
       "      <th>Peak Season</th>\n",
       "    </tr>\n",
       "  </thead>\n",
       "  <tbody>\n",
       "    <tr>\n",
       "      <th>0</th>\n",
       "      <td>12</td>\n",
       "      <td>0</td>\n",
       "      <td>6</td>\n",
       "      <td>4</td>\n",
       "      <td>315.0</td>\n",
       "      <td>16</td>\n",
       "      <td>1</td>\n",
       "      <td>0</td>\n",
       "      <td>0</td>\n",
       "      <td>0</td>\n",
       "      <td>0</td>\n",
       "      <td>1</td>\n",
       "      <td>0</td>\n",
       "      <td>0</td>\n",
       "      <td>0</td>\n",
       "      <td>0</td>\n",
       "      <td>0</td>\n",
       "      <td>0</td>\n",
       "      <td>0</td>\n",
       "      <td>0</td>\n",
       "      <td>0</td>\n",
       "      <td>0</td>\n",
       "      <td>0</td>\n",
       "      <td>0</td>\n",
       "      <td>0</td>\n",
       "      <td>0</td>\n",
       "      <td>0</td>\n",
       "      <td>0</td>\n",
       "      <td>1</td>\n",
       "      <td>0</td>\n",
       "      <td>0</td>\n",
       "      <td>1</td>\n",
       "      <td>0</td>\n",
       "    </tr>\n",
       "    <tr>\n",
       "      <th>1</th>\n",
       "      <td>3</td>\n",
       "      <td>5</td>\n",
       "      <td>6</td>\n",
       "      <td>0</td>\n",
       "      <td>820.0</td>\n",
       "      <td>4</td>\n",
       "      <td>1</td>\n",
       "      <td>0</td>\n",
       "      <td>1</td>\n",
       "      <td>0</td>\n",
       "      <td>1</td>\n",
       "      <td>0</td>\n",
       "      <td>0</td>\n",
       "      <td>0</td>\n",
       "      <td>0</td>\n",
       "      <td>0</td>\n",
       "      <td>0</td>\n",
       "      <td>0</td>\n",
       "      <td>0</td>\n",
       "      <td>0</td>\n",
       "      <td>0</td>\n",
       "      <td>0</td>\n",
       "      <td>0</td>\n",
       "      <td>0</td>\n",
       "      <td>0</td>\n",
       "      <td>0</td>\n",
       "      <td>1</td>\n",
       "      <td>0</td>\n",
       "      <td>0</td>\n",
       "      <td>0</td>\n",
       "      <td>0</td>\n",
       "      <td>0</td>\n",
       "      <td>0</td>\n",
       "    </tr>\n",
       "    <tr>\n",
       "      <th>2</th>\n",
       "      <td>24</td>\n",
       "      <td>1</td>\n",
       "      <td>10</td>\n",
       "      <td>3</td>\n",
       "      <td>435.0</td>\n",
       "      <td>144</td>\n",
       "      <td>1</td>\n",
       "      <td>0</td>\n",
       "      <td>0</td>\n",
       "      <td>0</td>\n",
       "      <td>0</td>\n",
       "      <td>1</td>\n",
       "      <td>0</td>\n",
       "      <td>0</td>\n",
       "      <td>0</td>\n",
       "      <td>1</td>\n",
       "      <td>0</td>\n",
       "      <td>0</td>\n",
       "      <td>0</td>\n",
       "      <td>0</td>\n",
       "      <td>0</td>\n",
       "      <td>0</td>\n",
       "      <td>0</td>\n",
       "      <td>0</td>\n",
       "      <td>0</td>\n",
       "      <td>0</td>\n",
       "      <td>0</td>\n",
       "      <td>0</td>\n",
       "      <td>0</td>\n",
       "      <td>0</td>\n",
       "      <td>0</td>\n",
       "      <td>0</td>\n",
       "      <td>1</td>\n",
       "    </tr>\n",
       "    <tr>\n",
       "      <th>3</th>\n",
       "      <td>7</td>\n",
       "      <td>2</td>\n",
       "      <td>6</td>\n",
       "      <td>3</td>\n",
       "      <td>1360.0</td>\n",
       "      <td>6</td>\n",
       "      <td>2</td>\n",
       "      <td>0</td>\n",
       "      <td>1</td>\n",
       "      <td>0</td>\n",
       "      <td>1</td>\n",
       "      <td>0</td>\n",
       "      <td>0</td>\n",
       "      <td>0</td>\n",
       "      <td>0</td>\n",
       "      <td>0</td>\n",
       "      <td>0</td>\n",
       "      <td>0</td>\n",
       "      <td>0</td>\n",
       "      <td>0</td>\n",
       "      <td>0</td>\n",
       "      <td>0</td>\n",
       "      <td>0</td>\n",
       "      <td>0</td>\n",
       "      <td>0</td>\n",
       "      <td>0</td>\n",
       "      <td>0</td>\n",
       "      <td>0</td>\n",
       "      <td>0</td>\n",
       "      <td>1</td>\n",
       "      <td>0</td>\n",
       "      <td>0</td>\n",
       "      <td>0</td>\n",
       "    </tr>\n",
       "    <tr>\n",
       "      <th>4</th>\n",
       "      <td>5</td>\n",
       "      <td>2</td>\n",
       "      <td>7</td>\n",
       "      <td>6</td>\n",
       "      <td>410.0</td>\n",
       "      <td>38</td>\n",
       "      <td>1</td>\n",
       "      <td>0</td>\n",
       "      <td>0</td>\n",
       "      <td>0</td>\n",
       "      <td>1</td>\n",
       "      <td>0</td>\n",
       "      <td>0</td>\n",
       "      <td>0</td>\n",
       "      <td>0</td>\n",
       "      <td>0</td>\n",
       "      <td>0</td>\n",
       "      <td>0</td>\n",
       "      <td>0</td>\n",
       "      <td>0</td>\n",
       "      <td>0</td>\n",
       "      <td>0</td>\n",
       "      <td>0</td>\n",
       "      <td>0</td>\n",
       "      <td>0</td>\n",
       "      <td>0</td>\n",
       "      <td>0</td>\n",
       "      <td>0</td>\n",
       "      <td>0</td>\n",
       "      <td>1</td>\n",
       "      <td>0</td>\n",
       "      <td>0</td>\n",
       "      <td>0</td>\n",
       "    </tr>\n",
       "  </tbody>\n",
       "</table>\n",
       "</div>"
      ],
      "text/plain": [
       "   Journey_Day  Journey_WeekDay  Journey_Month  booking_day  mins_of_journey  \\\n",
       "0           12                0              6            4            315.0   \n",
       "1            3                5              6            0            820.0   \n",
       "2           24                1             10            3            435.0   \n",
       "3            7                2              6            3           1360.0   \n",
       "4            5                2              7            6            410.0   \n",
       "\n",
       "   prrior_booking_days  No_of_stops  SpiceJet  Vistara  departure_Chennai  \\\n",
       "0                   16            1         0        0                  0   \n",
       "1                    4            1         0        1                  0   \n",
       "2                  144            1         0        0                  0   \n",
       "3                    6            2         0        1                  0   \n",
       "4                   38            1         0        0                  0   \n",
       "\n",
       "   departure_Hyderabad  departure_Mumbai  arrival_Amritsar  arrival_Bengaluru  \\\n",
       "0                    0                 1                 0                  0   \n",
       "1                    1                 0                 0                  0   \n",
       "2                    0                 1                 0                  0   \n",
       "3                    1                 0                 0                  0   \n",
       "4                    1                 0                 0                  0   \n",
       "\n",
       "   arrival_Bhopal  arrival_Bhubaneshwar  arrival_Chennai  arrival_Coimbatore  \\\n",
       "0               0                     0                0                   0   \n",
       "1               0                     0                0                   0   \n",
       "2               0                     1                0                   0   \n",
       "3               0                     0                0                   0   \n",
       "4               0                     0                0                   0   \n",
       "\n",
       "   arrival_Delhi  arrival_Goa  arrival_Hyderabad  arrival_Indore  \\\n",
       "0              0            0                  0               0   \n",
       "1              0            0                  0               0   \n",
       "2              0            0                  0               0   \n",
       "3              0            0                  0               0   \n",
       "4              0            0                  0               0   \n",
       "\n",
       "   arrival_Jaipur  arrival_Kolkata  arrival_Mangalore  arrival_Mumbai  \\\n",
       "0               0                0                  0               0   \n",
       "1               0                0                  0               0   \n",
       "2               0                0                  0               0   \n",
       "3               0                0                  0               0   \n",
       "4               0                0                  0               0   \n",
       "\n",
       "   arrival_Pune  arrival_Rajahmundry  arrival_Tirupati  arrival_Varanasi  \\\n",
       "0             0                    0                 1                 0   \n",
       "1             1                    0                 0                 0   \n",
       "2             0                    0                 0                 0   \n",
       "3             0                    0                 0                 1   \n",
       "4             0                    0                 0                 1   \n",
       "\n",
       "   arrival_Vijayawada  Peak Hours  Peak Season  \n",
       "0                   0           1            0  \n",
       "1                   0           0            0  \n",
       "2                   0           0            1  \n",
       "3                   0           0            0  \n",
       "4                   0           0            0  "
      ]
     },
     "execution_count": 1733,
     "metadata": {},
     "output_type": "execute_result"
    }
   ],
   "source": [
    "# Finally checking the test dataframe\n",
    "flight_test.head()"
   ]
  },
  {
   "cell_type": "code",
   "execution_count": 1734,
   "metadata": {},
   "outputs": [
    {
     "data": {
      "text/plain": [
       "(6000, 33)"
      ]
     },
     "execution_count": 1734,
     "metadata": {},
     "output_type": "execute_result"
    }
   ],
   "source": [
    "flight_test.shape"
   ]
  },
  {
   "cell_type": "code",
   "execution_count": 1735,
   "metadata": {},
   "outputs": [],
   "source": [
    "x_test= flight_test"
   ]
  },
  {
   "cell_type": "code",
   "execution_count": 1736,
   "metadata": {},
   "outputs": [
    {
     "name": "stdout",
     "output_type": "stream",
     "text": [
      "<class 'pandas.core.frame.DataFrame'>\n",
      "RangeIndex: 6000 entries, 0 to 5999\n",
      "Data columns (total 33 columns):\n",
      " #   Column                Non-Null Count  Dtype  \n",
      "---  ------                --------------  -----  \n",
      " 0   Journey_Day           6000 non-null   int64  \n",
      " 1   Journey_WeekDay       6000 non-null   int64  \n",
      " 2   Journey_Month         6000 non-null   int64  \n",
      " 3   booking_day           6000 non-null   int64  \n",
      " 4   mins_of_journey       6000 non-null   float64\n",
      " 5   prrior_booking_days   6000 non-null   int64  \n",
      " 6   No_of_stops           6000 non-null   int64  \n",
      " 7   SpiceJet              6000 non-null   uint8  \n",
      " 8   Vistara               6000 non-null   uint8  \n",
      " 9   departure_Chennai     6000 non-null   uint8  \n",
      " 10  departure_Hyderabad   6000 non-null   uint8  \n",
      " 11  departure_Mumbai      6000 non-null   uint8  \n",
      " 12  arrival_Amritsar      6000 non-null   uint8  \n",
      " 13  arrival_Bengaluru     6000 non-null   uint8  \n",
      " 14  arrival_Bhopal        6000 non-null   uint8  \n",
      " 15  arrival_Bhubaneshwar  6000 non-null   uint8  \n",
      " 16  arrival_Chennai       6000 non-null   uint8  \n",
      " 17  arrival_Coimbatore    6000 non-null   uint8  \n",
      " 18  arrival_Delhi         6000 non-null   uint8  \n",
      " 19  arrival_Goa           6000 non-null   uint8  \n",
      " 20  arrival_Hyderabad     6000 non-null   uint8  \n",
      " 21  arrival_Indore        6000 non-null   uint8  \n",
      " 22  arrival_Jaipur        6000 non-null   uint8  \n",
      " 23  arrival_Kolkata       6000 non-null   uint8  \n",
      " 24  arrival_Mangalore     6000 non-null   uint8  \n",
      " 25  arrival_Mumbai        6000 non-null   uint8  \n",
      " 26  arrival_Pune          6000 non-null   uint8  \n",
      " 27  arrival_Rajahmundry   6000 non-null   uint8  \n",
      " 28  arrival_Tirupati      6000 non-null   uint8  \n",
      " 29  arrival_Varanasi      6000 non-null   uint8  \n",
      " 30  arrival_Vijayawada    6000 non-null   uint8  \n",
      " 31  Peak Hours            6000 non-null   uint8  \n",
      " 32  Peak Season           6000 non-null   uint8  \n",
      "dtypes: float64(1), int64(6), uint8(26)\n",
      "memory usage: 480.6 KB\n"
     ]
    }
   ],
   "source": [
    "x_test.info()"
   ]
  },
  {
   "cell_type": "markdown",
   "metadata": {},
   "source": [
    "# Spliting Data"
   ]
  },
  {
   "cell_type": "code",
   "execution_count": 1737,
   "metadata": {},
   "outputs": [],
   "source": [
    "from sklearn.model_selection import train_test_split\n",
    "x_train, x_val, y_train, y_val= train_test_split(flight_train, y, test_size=0.2, random_state=1513)"
   ]
  },
  {
   "cell_type": "markdown",
   "metadata": {},
   "source": [
    "# Model Building"
   ]
  },
  {
   "cell_type": "markdown",
   "metadata": {},
   "source": [
    "## Decision Tree Regressor"
   ]
  },
  {
   "cell_type": "code",
   "execution_count": 1738,
   "metadata": {},
   "outputs": [
    {
     "data": {
      "text/html": [
       "<style>#sk-container-id-28 {color: black;background-color: white;}#sk-container-id-28 pre{padding: 0;}#sk-container-id-28 div.sk-toggleable {background-color: white;}#sk-container-id-28 label.sk-toggleable__label {cursor: pointer;display: block;width: 100%;margin-bottom: 0;padding: 0.3em;box-sizing: border-box;text-align: center;}#sk-container-id-28 label.sk-toggleable__label-arrow:before {content: \"▸\";float: left;margin-right: 0.25em;color: #696969;}#sk-container-id-28 label.sk-toggleable__label-arrow:hover:before {color: black;}#sk-container-id-28 div.sk-estimator:hover label.sk-toggleable__label-arrow:before {color: black;}#sk-container-id-28 div.sk-toggleable__content {max-height: 0;max-width: 0;overflow: hidden;text-align: left;background-color: #f0f8ff;}#sk-container-id-28 div.sk-toggleable__content pre {margin: 0.2em;color: black;border-radius: 0.25em;background-color: #f0f8ff;}#sk-container-id-28 input.sk-toggleable__control:checked~div.sk-toggleable__content {max-height: 200px;max-width: 100%;overflow: auto;}#sk-container-id-28 input.sk-toggleable__control:checked~label.sk-toggleable__label-arrow:before {content: \"▾\";}#sk-container-id-28 div.sk-estimator input.sk-toggleable__control:checked~label.sk-toggleable__label {background-color: #d4ebff;}#sk-container-id-28 div.sk-label input.sk-toggleable__control:checked~label.sk-toggleable__label {background-color: #d4ebff;}#sk-container-id-28 input.sk-hidden--visually {border: 0;clip: rect(1px 1px 1px 1px);clip: rect(1px, 1px, 1px, 1px);height: 1px;margin: -1px;overflow: hidden;padding: 0;position: absolute;width: 1px;}#sk-container-id-28 div.sk-estimator {font-family: monospace;background-color: #f0f8ff;border: 1px dotted black;border-radius: 0.25em;box-sizing: border-box;margin-bottom: 0.5em;}#sk-container-id-28 div.sk-estimator:hover {background-color: #d4ebff;}#sk-container-id-28 div.sk-parallel-item::after {content: \"\";width: 100%;border-bottom: 1px solid gray;flex-grow: 1;}#sk-container-id-28 div.sk-label:hover label.sk-toggleable__label {background-color: #d4ebff;}#sk-container-id-28 div.sk-serial::before {content: \"\";position: absolute;border-left: 1px solid gray;box-sizing: border-box;top: 0;bottom: 0;left: 50%;z-index: 0;}#sk-container-id-28 div.sk-serial {display: flex;flex-direction: column;align-items: center;background-color: white;padding-right: 0.2em;padding-left: 0.2em;position: relative;}#sk-container-id-28 div.sk-item {position: relative;z-index: 1;}#sk-container-id-28 div.sk-parallel {display: flex;align-items: stretch;justify-content: center;background-color: white;position: relative;}#sk-container-id-28 div.sk-item::before, #sk-container-id-28 div.sk-parallel-item::before {content: \"\";position: absolute;border-left: 1px solid gray;box-sizing: border-box;top: 0;bottom: 0;left: 50%;z-index: -1;}#sk-container-id-28 div.sk-parallel-item {display: flex;flex-direction: column;z-index: 1;position: relative;background-color: white;}#sk-container-id-28 div.sk-parallel-item:first-child::after {align-self: flex-end;width: 50%;}#sk-container-id-28 div.sk-parallel-item:last-child::after {align-self: flex-start;width: 50%;}#sk-container-id-28 div.sk-parallel-item:only-child::after {width: 0;}#sk-container-id-28 div.sk-dashed-wrapped {border: 1px dashed gray;margin: 0 0.4em 0.5em 0.4em;box-sizing: border-box;padding-bottom: 0.4em;background-color: white;}#sk-container-id-28 div.sk-label label {font-family: monospace;font-weight: bold;display: inline-block;line-height: 1.2em;}#sk-container-id-28 div.sk-label-container {text-align: center;}#sk-container-id-28 div.sk-container {/* jupyter's `normalize.less` sets `[hidden] { display: none; }` but bootstrap.min.css set `[hidden] { display: none !important; }` so we also need the `!important` here to be able to override the default hidden behavior on the sphinx rendered scikit-learn.org. See: https://github.com/scikit-learn/scikit-learn/issues/21755 */display: inline-block !important;position: relative;}#sk-container-id-28 div.sk-text-repr-fallback {display: none;}</style><div id=\"sk-container-id-28\" class=\"sk-top-container\"><div class=\"sk-text-repr-fallback\"><pre>DecisionTreeRegressor(random_state=1513)</pre><b>In a Jupyter environment, please rerun this cell to show the HTML representation or trust the notebook. <br />On GitHub, the HTML representation is unable to render, please try loading this page with nbviewer.org.</b></div><div class=\"sk-container\" hidden><div class=\"sk-item\"><div class=\"sk-estimator sk-toggleable\"><input class=\"sk-toggleable__control sk-hidden--visually\" id=\"sk-estimator-id-52\" type=\"checkbox\" checked><label for=\"sk-estimator-id-52\" class=\"sk-toggleable__label sk-toggleable__label-arrow\">DecisionTreeRegressor</label><div class=\"sk-toggleable__content\"><pre>DecisionTreeRegressor(random_state=1513)</pre></div></div></div></div></div>"
      ],
      "text/plain": [
       "DecisionTreeRegressor(random_state=1513)"
      ]
     },
     "execution_count": 1738,
     "metadata": {},
     "output_type": "execute_result"
    }
   ],
   "source": [
    "# import the regressor\n",
    "from sklearn.tree import DecisionTreeRegressor\n",
    "\n",
    "# create a regressor object\n",
    "regressor = DecisionTreeRegressor(random_state = 1513)\n",
    "\n",
    "# fit the regressor with X and Y data\n",
    "regressor.fit(x_train, y_train)\n"
   ]
  },
  {
   "cell_type": "code",
   "execution_count": 1739,
   "metadata": {},
   "outputs": [
    {
     "name": "stdout",
     "output_type": "stream",
     "text": [
      "[16242.  6347.  3318. ...  6190.  5220.  2477.]\n"
     ]
    }
   ],
   "source": [
    "# predicting a new value\n",
    "\n",
    "# test the output by changing values, like 3750\n",
    "y_pred = regressor.predict(x_val)\n",
    "\n",
    "# print the predicted price\n",
    "print(y_pred)\n"
   ]
  },
  {
   "cell_type": "code",
   "execution_count": 1740,
   "metadata": {},
   "outputs": [],
   "source": [
    "import matplotlib.pyplot as plt\n",
    "path = regressor.cost_complexity_pruning_path(x_train, y_train)\n",
    "ccp_alphas, impurities = path.ccp_alphas, path.impurities"
   ]
  },
  {
   "cell_type": "code",
   "execution_count": 1741,
   "metadata": {},
   "outputs": [
    {
     "data": {
      "image/png": "[encoded data removed]",
      "text/plain": [
       "<Figure size 640x480 with 1 Axes>"
      ]
     },
     "metadata": {},
     "output_type": "display_data"
    }
   ],
   "source": [
    "fig, ax = plt.subplots()\n",
    "ax.plot(ccp_alphas[:-1], impurities[:-1], marker=\"o\", drawstyle=\"steps-post\")\n",
    "ax.set_xlabel(\"effective alpha\")\n",
    "ax.set_ylabel(\"total impurity of leaves\")\n",
    "ax.set_title(\"Total Impurity vs effective alpha for training set\")\n",
    "plt.show(True)"
   ]
  },
  {
   "cell_type": "code",
   "execution_count": 1742,
   "metadata": {},
   "outputs": [
    {
     "name": "stdout",
     "output_type": "stream",
     "text": [
      "R Squared error associated with Decision Tree is: 0.9066024540810521\n"
     ]
    }
   ],
   "source": [
    "#model evaluation on TRAIN DATA\n",
    "from sklearn import metrics\n",
    "r_square= metrics.r2_score(y_val, y_pred)\n",
    "print('R Squared error associated with Decision Tree is:', r_square)"
   ]
  },
  {
   "cell_type": "code",
   "execution_count": 1743,
   "metadata": {},
   "outputs": [
    {
     "name": "stdout",
     "output_type": "stream",
     "text": [
      "MAE: 878.8548350346401\n",
      "MSE: 8587748.528099468\n",
      "RMSE: 2930.4860566294233\n",
      "MAPE: 0.09461037863957783\n"
     ]
    }
   ],
   "source": [
    "from sklearn.metrics import mean_absolute_error,mean_squared_error, mean_absolute_percentage_error\n",
    "\n",
    "mae = mean_absolute_error(y_true=y_val,y_pred=y_pred)\n",
    "mape = mean_absolute_percentage_error(y_true=y_val,y_pred=y_pred)\n",
    "#squared True returns MSE value, False returns RMSE value.\n",
    "mse = mean_squared_error(y_true=y_val,y_pred=y_pred) #default=True\n",
    "rmse = mean_squared_error(y_true=y_val,y_pred=y_pred,squared=False)\n",
    "\n",
    "print(\"MAE:\",mae)\n",
    "print(\"MSE:\",mse)\n",
    "print(\"RMSE:\",rmse)\n",
    "print(\"MAPE:\",mape)"
   ]
  },
  {
   "cell_type": "code",
   "execution_count": 1744,
   "metadata": {},
   "outputs": [],
   "source": [
    "# Check about pruning the tree with decision tree regressor"
   ]
  },
  {
   "cell_type": "code",
   "execution_count": 1745,
   "metadata": {},
   "outputs": [
    {
     "name": "stdout",
     "output_type": "stream",
     "text": [
      "R Squared error associated with Post-Prunned Decision Tree is: 0.9066126074990046\n"
     ]
    }
   ],
   "source": [
    "# Post pruning\n",
    "# from sklearn.tree import DecisionTreeRegressor \n",
    "  \n",
    "# create a regressor object\n",
    "# for v in ccp_alphas:\n",
    "regressor = DecisionTreeRegressor(random_state = 1513, ccp_alpha = 0.65) \n",
    "  \n",
    "# fit the regressor with X and Y data\n",
    "regressor.fit(x_train, y_train)\n",
    "y_pred_pp = regressor.predict(x_val)\n",
    "r_square_pp= metrics.r2_score(y_val, y_pred_pp)\n",
    "print('R Squared error associated with Post-Prunned Decision Tree is:', r_square_pp)"
   ]
  },
  {
   "cell_type": "markdown",
   "metadata": {},
   "source": [
    "#### Predicting ticketprice on test data"
   ]
  },
  {
   "cell_type": "code",
   "execution_count": 1746,
   "metadata": {},
   "outputs": [
    {
     "name": "stdout",
     "output_type": "stream",
     "text": [
      "[16242.          6347.          3373.6        ...  6190.\n",
      "  5220.          2514.33333333]\n",
      "[ 5740.74 15286.    9582.   ... 13470.    2897.   12557.5 ]\n"
     ]
    }
   ],
   "source": [
    "regressor.fit(x_train, y_train)\n",
    "y_pred = regressor.predict(x_val)\n",
    "\n",
    "# print the predicted price\n",
    "print(y_pred)\n",
    "y_test_pred = regressor.predict(x_test)\n",
    "\n",
    "# print the predicted price\n",
    "print(y_test_pred)\n"
   ]
  },
  {
   "cell_type": "code",
   "execution_count": 1747,
   "metadata": {},
   "outputs": [
    {
     "data": {
      "text/html": [
       "<div>\n",
       "<style scoped>\n",
       "    .dataframe tbody tr th:only-of-type {\n",
       "        vertical-align: middle;\n",
       "    }\n",
       "\n",
       "    .dataframe tbody tr th {\n",
       "        vertical-align: top;\n",
       "    }\n",
       "\n",
       "    .dataframe thead th {\n",
       "        text-align: right;\n",
       "    }\n",
       "</style>\n",
       "<table border=\"1\" class=\"dataframe\">\n",
       "  <thead>\n",
       "    <tr style=\"text-align: right;\">\n",
       "      <th></th>\n",
       "      <th>TripID</th>\n",
       "      <th>ticketprice</th>\n",
       "    </tr>\n",
       "  </thead>\n",
       "  <tbody>\n",
       "    <tr>\n",
       "      <th>0</th>\n",
       "      <td>Trip12332</td>\n",
       "      <td>5742</td>\n",
       "    </tr>\n",
       "    <tr>\n",
       "      <th>1</th>\n",
       "      <td>Trip22633</td>\n",
       "      <td>15286</td>\n",
       "    </tr>\n",
       "  </tbody>\n",
       "</table>\n",
       "</div>"
      ],
      "text/plain": [
       "      TripID  ticketprice\n",
       "0  Trip12332         5742\n",
       "1  Trip22633        15286"
      ]
     },
     "execution_count": 1747,
     "metadata": {},
     "output_type": "execute_result"
    }
   ],
   "source": [
    "y_test_actual.head(2)"
   ]
  },
  {
   "cell_type": "code",
   "execution_count": 1748,
   "metadata": {},
   "outputs": [],
   "source": [
    "y_test = y_test_actual['ticketprice']"
   ]
  },
  {
   "cell_type": "code",
   "execution_count": 1749,
   "metadata": {},
   "outputs": [
    {
     "name": "stdout",
     "output_type": "stream",
     "text": [
      "MAPE: 0.09769625235832831\n"
     ]
    }
   ],
   "source": [
    "# Error metrics for entire tree\n",
    "mape = mean_absolute_percentage_error(y_true=y_test,y_pred=y_test_pred)\n",
    "print(\"MAPE:\",mape)"
   ]
  },
  {
   "cell_type": "code",
   "execution_count": 1750,
   "metadata": {},
   "outputs": [
    {
     "name": "stdout",
     "output_type": "stream",
     "text": [
      "[ 5740.74 15286.    9582.   ... 13470.    2897.   12557.5 ]\n",
      "MAPE: 0.09767247951772737\n"
     ]
    }
   ],
   "source": [
    "regressor2 = DecisionTreeRegressor(random_state = 1513, ccp_alpha = 0.63) \n",
    "regressor2.fit(x_train, y_train)\n",
    "\n",
    "y_test_pred2 = regressor2.predict(x_test)\n",
    "\n",
    "# print the predicted price\n",
    "print(y_test_pred2)\n",
    "\n",
    "# Error metrics of post pruned tree \n",
    "mape = mean_absolute_percentage_error(y_true=y_test,y_pred=y_test_pred2)\n",
    "\n",
    "print(\"MAPE:\",mape)"
   ]
  },
  {
   "cell_type": "code",
   "execution_count": 1751,
   "metadata": {},
   "outputs": [],
   "source": [
    "results = pd.DataFrame({'TripID':trip_id_test,'ticketprice':y_test_pred2})"
   ]
  },
  {
   "cell_type": "code",
   "execution_count": 1752,
   "metadata": {},
   "outputs": [],
   "source": [
    "results.to_csv(\"decision_tree_results.csv\")"
   ]
  },
  {
   "cell_type": "code",
   "execution_count": 1753,
   "metadata": {},
   "outputs": [
    {
     "data": {
      "text/html": [
       "<div>\n",
       "<style scoped>\n",
       "    .dataframe tbody tr th:only-of-type {\n",
       "        vertical-align: middle;\n",
       "    }\n",
       "\n",
       "    .dataframe tbody tr th {\n",
       "        vertical-align: top;\n",
       "    }\n",
       "\n",
       "    .dataframe thead th {\n",
       "        text-align: right;\n",
       "    }\n",
       "</style>\n",
       "<table border=\"1\" class=\"dataframe\">\n",
       "  <thead>\n",
       "    <tr style=\"text-align: right;\">\n",
       "      <th></th>\n",
       "      <th>TripID</th>\n",
       "      <th>ticketprice</th>\n",
       "    </tr>\n",
       "  </thead>\n",
       "  <tbody>\n",
       "    <tr>\n",
       "      <th>0</th>\n",
       "      <td>Trip12332</td>\n",
       "      <td>5740.74</td>\n",
       "    </tr>\n",
       "    <tr>\n",
       "      <th>1</th>\n",
       "      <td>Trip22633</td>\n",
       "      <td>15286.00</td>\n",
       "    </tr>\n",
       "    <tr>\n",
       "      <th>2</th>\n",
       "      <td>Trip33581</td>\n",
       "      <td>9582.00</td>\n",
       "    </tr>\n",
       "    <tr>\n",
       "      <th>3</th>\n",
       "      <td>Trip36239</td>\n",
       "      <td>16745.36</td>\n",
       "    </tr>\n",
       "    <tr>\n",
       "      <th>4</th>\n",
       "      <td>Trip21625</td>\n",
       "      <td>6338.00</td>\n",
       "    </tr>\n",
       "  </tbody>\n",
       "</table>\n",
       "</div>"
      ],
      "text/plain": [
       "      TripID  ticketprice\n",
       "0  Trip12332      5740.74\n",
       "1  Trip22633     15286.00\n",
       "2  Trip33581      9582.00\n",
       "3  Trip36239     16745.36\n",
       "4  Trip21625      6338.00"
      ]
     },
     "execution_count": 1753,
     "metadata": {},
     "output_type": "execute_result"
    }
   ],
   "source": [
    "results.head(5)"
   ]
  },
  {
   "cell_type": "code",
   "execution_count": 1754,
   "metadata": {},
   "outputs": [],
   "source": [
    "# import os\n",
    "# os.environ[\"PATH\"] += os.pathsep +\"C:/Users/Dhwani Bhandari/anaconda3/Library/bin/graphviz\""
   ]
  },
  {
   "cell_type": "code",
   "execution_count": 1661,
   "metadata": {},
   "outputs": [],
   "source": [
    "# from graphviz import Source\n",
    "# from sklearn import tree"
   ]
  },
  {
   "cell_type": "code",
   "execution_count": 1662,
   "metadata": {},
   "outputs": [],
   "source": [
    "# #Display it in Jupiter\n",
    "# from IPython.display import SVG\n",
    "# graph = Source( tree.export_graphviz(regressor, out_file=None, \n",
    "#                                      feature_names=x_train.columns))\n",
    "# SVG(graph.pipe(format='svg'))"
   ]
  },
  {
   "cell_type": "code",
   "execution_count": null,
   "metadata": {},
   "outputs": [],
   "source": [
    "# #save as png\n",
    "# graph = Source( tree.export_graphviz(regressor2, out_file=None,\n",
    "#                                      feature_names=x_train.columns))\n",
    "# graph.format = 'png'\n",
    "# graph.render('dtree_image',view=True)"
   ]
  }
 ],
 "metadata": {
  "kernelspec": {
   "display_name": "Python 3",
   "language": "python",
   "name": "python3"
  },
  "language_info": {
   "codemirror_mode": {
    "name": "ipython",
    "version": 3
   },
   "file_extension": ".py",
   "mimetype": "text/x-python",
   "name": "python",
   "nbconvert_exporter": "python",
   "pygments_lexer": "ipython3",
   "version": "3.8.5"
  }
 },
 "nbformat": 4,
 "nbformat_minor": 4
}
